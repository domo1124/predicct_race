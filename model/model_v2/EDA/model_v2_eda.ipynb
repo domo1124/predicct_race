{
 "cells": [
  {
   "cell_type": "code",
   "execution_count": 370,
   "metadata": {},
   "outputs": [],
   "source": [
    "import numpy as np\n",
    "import pandas as pd\n",
    "import sqlite3\n",
    "import seaborn as sns"
   ]
  },
  {
   "cell_type": "code",
   "execution_count": 4,
   "metadata": {},
   "outputs": [],
   "source": [
    "#sqlite 設定\n",
    "con = sqlite3.connect('../../data/race_data_set.db') # データベースに接続する\n",
    "cur = con.cursor()"
   ]
  },
  {
   "cell_type": "code",
   "execution_count": 5,
   "metadata": {},
   "outputs": [],
   "source": [
    "sql_result = \"select * from race_result\"\n",
    "sql_info   = \"select * from race_info\"\n",
    "sql_pay = \"select * from race_pay\"\n",
    "\n",
    "df_r = pd.read_sql_query(sql=sql_result,con=con)\n",
    "df_i = pd.read_sql_query(sql=sql_info,con=con)\n",
    "df_p = pd.read_sql_query(sql=sql_pay,con=con)\n"
   ]
  },
  {
   "cell_type": "code",
   "execution_count": 6,
   "metadata": {},
   "outputs": [
    {
     "data": {
      "text/html": [
       "<div>\n",
       "<style scoped>\n",
       "    .dataframe tbody tr th:only-of-type {\n",
       "        vertical-align: middle;\n",
       "    }\n",
       "\n",
       "    .dataframe tbody tr th {\n",
       "        vertical-align: top;\n",
       "    }\n",
       "\n",
       "    .dataframe thead th {\n",
       "        text-align: right;\n",
       "    }\n",
       "</style>\n",
       "<table border=\"1\" class=\"dataframe\">\n",
       "  <thead>\n",
       "    <tr style=\"text-align: right;\">\n",
       "      <th></th>\n",
       "      <th>race_id</th>\n",
       "      <th>tyaku</th>\n",
       "      <th>wakuban</th>\n",
       "      <th>umaban</th>\n",
       "      <th>horse_id</th>\n",
       "      <th>horse_name</th>\n",
       "      <th>horse_sex</th>\n",
       "      <th>horse_years</th>\n",
       "      <th>jockey</th>\n",
       "      <th>kinryo</th>\n",
       "      <th>odds</th>\n",
       "      <th>popular</th>\n",
       "      <th>time</th>\n",
       "      <th>last3f</th>\n",
       "      <th>p1</th>\n",
       "      <th>p2</th>\n",
       "      <th>p3</th>\n",
       "      <th>p4</th>\n",
       "      <th>horse_weight</th>\n",
       "      <th>dif_horse_weight</th>\n",
       "    </tr>\n",
       "  </thead>\n",
       "  <tbody>\n",
       "    <tr>\n",
       "      <th>0</th>\n",
       "      <td>202003010602</td>\n",
       "      <td>1</td>\n",
       "      <td>2</td>\n",
       "      <td>3</td>\n",
       "      <td>2017104234</td>\n",
       "      <td>スズノヤマト</td>\n",
       "      <td>牡</td>\n",
       "      <td>3</td>\n",
       "      <td>勝浦正樹</td>\n",
       "      <td>56.0</td>\n",
       "      <td>10.1</td>\n",
       "      <td>5</td>\n",
       "      <td>69.9</td>\n",
       "      <td>34.6</td>\n",
       "      <td>0</td>\n",
       "      <td>0</td>\n",
       "      <td>8</td>\n",
       "      <td>7</td>\n",
       "      <td>460.0</td>\n",
       "      <td>-4.0</td>\n",
       "    </tr>\n",
       "    <tr>\n",
       "      <th>1</th>\n",
       "      <td>202003010602</td>\n",
       "      <td>2</td>\n",
       "      <td>3</td>\n",
       "      <td>5</td>\n",
       "      <td>2017100246</td>\n",
       "      <td>シゲルフォボス</td>\n",
       "      <td>牡</td>\n",
       "      <td>3</td>\n",
       "      <td>酒井学</td>\n",
       "      <td>56.0</td>\n",
       "      <td>7.9</td>\n",
       "      <td>4</td>\n",
       "      <td>69.9</td>\n",
       "      <td>35.6</td>\n",
       "      <td>0</td>\n",
       "      <td>0</td>\n",
       "      <td>1</td>\n",
       "      <td>1</td>\n",
       "      <td>484.0</td>\n",
       "      <td>6.0</td>\n",
       "    </tr>\n",
       "    <tr>\n",
       "      <th>2</th>\n",
       "      <td>202003010602</td>\n",
       "      <td>3</td>\n",
       "      <td>5</td>\n",
       "      <td>9</td>\n",
       "      <td>2017103278</td>\n",
       "      <td>シアープレジャー</td>\n",
       "      <td>牝</td>\n",
       "      <td>3</td>\n",
       "      <td>西村淳也</td>\n",
       "      <td>53.0</td>\n",
       "      <td>16.1</td>\n",
       "      <td>7</td>\n",
       "      <td>70.0</td>\n",
       "      <td>35.3</td>\n",
       "      <td>0</td>\n",
       "      <td>0</td>\n",
       "      <td>4</td>\n",
       "      <td>2</td>\n",
       "      <td>410.0</td>\n",
       "      <td>4.0</td>\n",
       "    </tr>\n",
       "    <tr>\n",
       "      <th>3</th>\n",
       "      <td>202003010602</td>\n",
       "      <td>4</td>\n",
       "      <td>5</td>\n",
       "      <td>10</td>\n",
       "      <td>2017100458</td>\n",
       "      <td>エーティーロンドン</td>\n",
       "      <td>牡</td>\n",
       "      <td>3</td>\n",
       "      <td>団野大成</td>\n",
       "      <td>54.0</td>\n",
       "      <td>7.7</td>\n",
       "      <td>3</td>\n",
       "      <td>70.2</td>\n",
       "      <td>35.8</td>\n",
       "      <td>0</td>\n",
       "      <td>0</td>\n",
       "      <td>2</td>\n",
       "      <td>2</td>\n",
       "      <td>512.0</td>\n",
       "      <td>4.0</td>\n",
       "    </tr>\n",
       "    <tr>\n",
       "      <th>4</th>\n",
       "      <td>202003010602</td>\n",
       "      <td>5</td>\n",
       "      <td>6</td>\n",
       "      <td>12</td>\n",
       "      <td>2017101605</td>\n",
       "      <td>ゲームアルアル</td>\n",
       "      <td>牡</td>\n",
       "      <td>3</td>\n",
       "      <td>丸田恭介</td>\n",
       "      <td>56.0</td>\n",
       "      <td>17.1</td>\n",
       "      <td>8</td>\n",
       "      <td>70.2</td>\n",
       "      <td>34.7</td>\n",
       "      <td>0</td>\n",
       "      <td>0</td>\n",
       "      <td>11</td>\n",
       "      <td>9</td>\n",
       "      <td>480.0</td>\n",
       "      <td>4.0</td>\n",
       "    </tr>\n",
       "  </tbody>\n",
       "</table>\n",
       "</div>"
      ],
      "text/plain": [
       "        race_id  tyaku  wakuban  umaban    horse_id horse_name horse_sex  \\\n",
       "0  202003010602      1        2       3  2017104234     スズノヤマト         牡   \n",
       "1  202003010602      2        3       5  2017100246    シゲルフォボス         牡   \n",
       "2  202003010602      3        5       9  2017103278   シアープレジャー         牝   \n",
       "3  202003010602      4        5      10  2017100458  エーティーロンドン         牡   \n",
       "4  202003010602      5        6      12  2017101605    ゲームアルアル         牡   \n",
       "\n",
       "   horse_years jockey  kinryo  odds  popular  time  last3f  p1  p2  p3  p4  \\\n",
       "0            3   勝浦正樹    56.0  10.1        5  69.9    34.6   0   0   8   7   \n",
       "1            3    酒井学    56.0   7.9        4  69.9    35.6   0   0   1   1   \n",
       "2            3   西村淳也    53.0  16.1        7  70.0    35.3   0   0   4   2   \n",
       "3            3   団野大成    54.0   7.7        3  70.2    35.8   0   0   2   2   \n",
       "4            3   丸田恭介    56.0  17.1        8  70.2    34.7   0   0  11   9   \n",
       "\n",
       "   horse_weight  dif_horse_weight  \n",
       "0         460.0              -4.0  \n",
       "1         484.0               6.0  \n",
       "2         410.0               4.0  \n",
       "3         512.0               4.0  \n",
       "4         480.0               4.0  "
      ]
     },
     "execution_count": 6,
     "metadata": {},
     "output_type": "execute_result"
    }
   ],
   "source": [
    "df_r.head()"
   ]
  },
  {
   "cell_type": "code",
   "execution_count": 9,
   "metadata": {},
   "outputs": [
    {
     "data": {
      "text/html": [
       "<div>\n",
       "<style scoped>\n",
       "    .dataframe tbody tr th:only-of-type {\n",
       "        vertical-align: middle;\n",
       "    }\n",
       "\n",
       "    .dataframe tbody tr th {\n",
       "        vertical-align: top;\n",
       "    }\n",
       "\n",
       "    .dataframe thead th {\n",
       "        text-align: right;\n",
       "    }\n",
       "</style>\n",
       "<table border=\"1\" class=\"dataframe\">\n",
       "  <thead>\n",
       "    <tr style=\"text-align: right;\">\n",
       "      <th></th>\n",
       "      <th>race_id</th>\n",
       "      <th>race_num</th>\n",
       "      <th>race_name</th>\n",
       "      <th>race_date</th>\n",
       "      <th>race_rank1</th>\n",
       "      <th>race_rank2</th>\n",
       "      <th>distance</th>\n",
       "      <th>kind</th>\n",
       "      <th>condition</th>\n",
       "      <th>place</th>\n",
       "      <th>horse_count</th>\n",
       "      <th>lap_time</th>\n",
       "      <th>conner1</th>\n",
       "      <th>conner2</th>\n",
       "      <th>conner3</th>\n",
       "      <th>conner4</th>\n",
       "    </tr>\n",
       "  </thead>\n",
       "  <tbody>\n",
       "    <tr>\n",
       "      <th>0</th>\n",
       "      <td>202003010602</td>\n",
       "      <td>2</td>\n",
       "      <td>3歳未勝利</td>\n",
       "      <td>2020-04-26</td>\n",
       "      <td>3歳</td>\n",
       "      <td>未勝利</td>\n",
       "      <td>1200</td>\n",
       "      <td>芝</td>\n",
       "      <td>良</td>\n",
       "      <td>福島</td>\n",
       "      <td>16</td>\n",
       "      <td>12.3-10.7-11.3-11.7-11.4-12.5</td>\n",
       "      <td>None</td>\n",
       "      <td>None</td>\n",
       "      <td>5(10,14)(4,9)(2,7)-(3,13,15)(11,12)16(1,8)=6</td>\n",
       "      <td>5(10,9,14)(4,7)(2,3)-(12,13,15)-11,16,8-1   6</td>\n",
       "    </tr>\n",
       "    <tr>\n",
       "      <th>1</th>\n",
       "      <td>202003010603</td>\n",
       "      <td>3</td>\n",
       "      <td>3歳未勝利</td>\n",
       "      <td>2020-04-26</td>\n",
       "      <td>3歳</td>\n",
       "      <td>未勝利</td>\n",
       "      <td>1700</td>\n",
       "      <td>ダ</td>\n",
       "      <td>良</td>\n",
       "      <td>福島</td>\n",
       "      <td>15</td>\n",
       "      <td>7.3-11.3-11.9-12.8-13.1-12.9-13.3-13.0-13.3</td>\n",
       "      <td>(*2,5)9(4,12,15)14(3,11)-(6,7)(8,13)(1,10)</td>\n",
       "      <td>2,5(4,9)12(3,15)14,11(6,7)-8,13,1,10</td>\n",
       "      <td>2,9(4,5,12,7)(15,11,1)14(6,10)(3,8)=13</td>\n",
       "      <td>(2,9,*7)(4,1)12-5(15,6,11,10)8,3,14-13</td>\n",
       "    </tr>\n",
       "    <tr>\n",
       "      <th>2</th>\n",
       "      <td>202003010605</td>\n",
       "      <td>5</td>\n",
       "      <td>3歳未勝利</td>\n",
       "      <td>2020-04-26</td>\n",
       "      <td>3歳</td>\n",
       "      <td>未勝利</td>\n",
       "      <td>1200</td>\n",
       "      <td>芝</td>\n",
       "      <td>良</td>\n",
       "      <td>福島</td>\n",
       "      <td>16</td>\n",
       "      <td>12.6-10.9-11.2-12.0-11.9-12.5</td>\n",
       "      <td>None</td>\n",
       "      <td>None</td>\n",
       "      <td>1,11(4,5)(2,16)3(6,10)(7,12)(8,13)(9,15)-14</td>\n",
       "      <td>1(11,5)(2,16)4(3,6,10)(7,12)8,13,9,15-14</td>\n",
       "    </tr>\n",
       "  </tbody>\n",
       "</table>\n",
       "</div>"
      ],
      "text/plain": [
       "        race_id  race_num race_name   race_date race_rank1 race_rank2  \\\n",
       "0  202003010602         2     3歳未勝利  2020-04-26         3歳        未勝利   \n",
       "1  202003010603         3     3歳未勝利  2020-04-26         3歳        未勝利   \n",
       "2  202003010605         5     3歳未勝利  2020-04-26         3歳        未勝利   \n",
       "\n",
       "   distance kind condition place  horse_count  \\\n",
       "0      1200    芝         良    福島           16   \n",
       "1      1700    ダ         良    福島           15   \n",
       "2      1200    芝         良    福島           16   \n",
       "\n",
       "                                      lap_time  \\\n",
       "0                12.3-10.7-11.3-11.7-11.4-12.5   \n",
       "1  7.3-11.3-11.9-12.8-13.1-12.9-13.3-13.0-13.3   \n",
       "2                12.6-10.9-11.2-12.0-11.9-12.5   \n",
       "\n",
       "                                      conner1  \\\n",
       "0                                        None   \n",
       "1  (*2,5)9(4,12,15)14(3,11)-(6,7)(8,13)(1,10)   \n",
       "2                                        None   \n",
       "\n",
       "                                conner2  \\\n",
       "0                                  None   \n",
       "1  2,5(4,9)12(3,15)14,11(6,7)-8,13,1,10   \n",
       "2                                  None   \n",
       "\n",
       "                                        conner3  \\\n",
       "0  5(10,14)(4,9)(2,7)-(3,13,15)(11,12)16(1,8)=6   \n",
       "1        2,9(4,5,12,7)(15,11,1)14(6,10)(3,8)=13   \n",
       "2   1,11(4,5)(2,16)3(6,10)(7,12)(8,13)(9,15)-14   \n",
       "\n",
       "                                         conner4  \n",
       "0  5(10,9,14)(4,7)(2,3)-(12,13,15)-11,16,8-1   6  \n",
       "1         (2,9,*7)(4,1)12-5(15,6,11,10)8,3,14-13  \n",
       "2       1(11,5)(2,16)4(3,6,10)(7,12)8,13,9,15-14  "
      ]
     },
     "execution_count": 9,
     "metadata": {},
     "output_type": "execute_result"
    }
   ],
   "source": [
    "df_i.head(3)"
   ]
  },
  {
   "cell_type": "code",
   "execution_count": 156,
   "metadata": {},
   "outputs": [
    {
     "data": {
      "text/html": [
       "<div>\n",
       "<style scoped>\n",
       "    .dataframe tbody tr th:only-of-type {\n",
       "        vertical-align: middle;\n",
       "    }\n",
       "\n",
       "    .dataframe tbody tr th {\n",
       "        vertical-align: top;\n",
       "    }\n",
       "\n",
       "    .dataframe thead th {\n",
       "        text-align: right;\n",
       "    }\n",
       "</style>\n",
       "<table border=\"1\" class=\"dataframe\">\n",
       "  <thead>\n",
       "    <tr style=\"text-align: right;\">\n",
       "      <th></th>\n",
       "      <th>race_id</th>\n",
       "      <th>indicator</th>\n",
       "      <th>horse_1</th>\n",
       "      <th>horse_2</th>\n",
       "      <th>horse_3</th>\n",
       "      <th>pay</th>\n",
       "    </tr>\n",
       "  </thead>\n",
       "  <tbody>\n",
       "    <tr>\n",
       "      <th>0</th>\n",
       "      <td>202003010602</td>\n",
       "      <td>tan</td>\n",
       "      <td>3</td>\n",
       "      <td>None</td>\n",
       "      <td>None</td>\n",
       "      <td>1010</td>\n",
       "    </tr>\n",
       "    <tr>\n",
       "      <th>1</th>\n",
       "      <td>202003010602</td>\n",
       "      <td>fuku</td>\n",
       "      <td>3</td>\n",
       "      <td>None</td>\n",
       "      <td>None</td>\n",
       "      <td>250</td>\n",
       "    </tr>\n",
       "  </tbody>\n",
       "</table>\n",
       "</div>"
      ],
      "text/plain": [
       "        race_id indicator horse_1 horse_2 horse_3   pay\n",
       "0  202003010602       tan       3    None    None  1010\n",
       "1  202003010602      fuku       3    None    None   250"
      ]
     },
     "execution_count": 156,
     "metadata": {},
     "output_type": "execute_result"
    }
   ],
   "source": [
    "df_p.head(2)"
   ]
  },
  {
   "cell_type": "code",
   "execution_count": 146,
   "metadata": {},
   "outputs": [
    {
     "name": "stdout",
     "output_type": "stream",
     "text": [
      "全体平均 24509.04499781564\n",
      "小倉 芝1200m  平均44140.97046413502 分散97286.73084998761 レース数237\n",
      "中京 芝1200m  平均40855.13513513513 分散115574.90634220254 レース数74\n",
      "東京 ダ2100m  平均40481.13924050633 分散181195.66341239575 レース数158\n",
      "中京 ダ1800m  平均40473.14410480349 分散364875.24394092354 レース数229\n",
      "新潟 芝1600m  平均38937.74193548387 分散171803.51032139006 レース数62\n",
      "阪神 ダ1400m  平均35677.36654804271 分散115592.54239184975 レース数281\n",
      "京都 ダ1400m  平均34491.25925925926 分散98896.18219468063 レース数270\n",
      "中山 ダ1800m  平均33517.14022140222 分散125650.72043478572 レース数542\n",
      "福島 芝1800m  平均33384.782608695656 分散76650.03952570984 レース数92\n",
      "東京 ダ1300m  平均32449.59595959596 分散93796.83056652223 レース数99\n",
      "京都 芝1200m  平均31215.670103092783 分散68618.08917702897 レース数97\n",
      "阪神 ダ1200m  平均30811.626794258373 分散114506.89248752019 レース数209\n",
      "京都 芝1400m  平均29988.51485148515 分散77628.6498064489 レース数101\n",
      "小倉 ダ1700m  平均28823.463035019457 分散94096.86926949225 レース数257\n",
      "京都 ダ1200m  平均28161.181102362203 分散58010.17920235724 レース数254\n",
      "----------------------------------------------------------------------------------------------------\n",
      "小倉 芝1200m  中央値13870 分散97286.73084998761 レース数237\n",
      "中京 芝1200m  中央値12680 分散115574.90634220254 レース数74\n",
      "中山 芝1200m  中央値11520 分散90475.08760299662 レース数113\n",
      "福島 芝1200m  中央値9085 分散55054.65879154674 レース数182\n",
      "中京 芝1400m  中央値8990 分散61807.18964654904 レース数95\n",
      "福島 芝1800m  中央値8725 分散76650.03952570984 レース数92\n",
      "札幌 芝1200m  中央値8600 分散48469.72999444564 レース数60\n",
      "京都 芝1200m  中央値8390 分散68618.08917702897 レース数97\n",
      "函館 芝1200m  中央値8120 分散51283.863024846076 レース数119\n",
      "京都 ダ1400m  中央値7515 分散98896.18219468063 レース数270\n",
      "阪神 芝1200m  中央値7480 分散64906.16429171473 レース数75\n",
      "東京 ダ1400m  中央値7375 分散64170.705910596036 レース数344\n",
      "中京 ダ1200m  中央値7295 分散30556.785170249168 レース数138\n",
      "東京 ダ2100m  中央値7030 分散181195.66341239575 レース数158\n",
      "京都 芝1400m  中央値6770 分散77628.6498064489 レース数101\n",
      "----------------------------------------------------------------------------------------------------\n",
      "東京 芝2000m  平均9040.420168067227/中央値2760 分散17288.34649115507 レース数119\n",
      "中山 芝1800m  平均12939.842519685038/中央値4140 分散20967.192853729353 レース数127\n",
      "中山 芝2200m  平均11190.90909090909/中央値3970 分散22635.934820884046 レース数77\n",
      "京都 芝2000m  平均11137.605633802817/中央値3515 分散22737.855145938855 レース数142\n",
      "札幌 芝2000m  平均13100.30303030303/中央値5275 分散23467.22781764436 レース数66\n",
      "中京 芝1600m  平均12511.25/中央値4880 分散24598.33534162317 レース数96\n",
      "函館 芝2000m  平均13679.047619047618/中央値3240 分散26369.112595579343 レース数63\n",
      "新潟 芝2000m  平均14064.390243902439/中央値5640 分散27487.330104800538 レース数82\n",
      "新潟 芝1800m  平均13327.10843373494/中央値4130 分散29390.27769933786 レース数83\n",
      "中京 ダ1200m  平均20025.36231884058/中央値7295 分散30556.785170249168 レース数138\n",
      "東京 芝1800m  平均14849.677419354839/中央値4055 分散31530.38412608737 レース数186\n",
      "阪神 ダ2000m  平均15868.481012658227/中央値5610 分散35294.48293810556 レース数79\n",
      "中山 芝1600m  平均17469.716981132075/中央値5655 分散36054.714147276165 レース数212\n",
      "京都 芝2400m  平均13466.805555555555/中央値2595 分散36177.49066058715 レース数72\n",
      "福島 芝2000m  平均19233.125/中央値6355 分散36496.91561048615 レース数96\n"
     ]
    }
   ],
   "source": [
    "#レースの配当金の平均\n",
    "df_p_ren3 = df_p[df_p[\"indicator\"]==\"sanfuku\"]\n",
    "print(\"全体平均\",np.mean(df_p_ren3.pay))\n",
    "#各カテゴリごとの平均\n",
    "df_p_ren3 = df_p_ren3.merge(df_i,on='race_id',how='inner')\n",
    "#開催場毎の平均\n",
    "pay_data = df_p_ren3.pivot_table(index=[\"place\",\"kind\",\"distance\"],values='pay',aggfunc=[np.mean,np.median,np.std, len],fill_value=0).reset_index()\n",
    "pay_data.columns = [\"place\",\"kind\",\"distance\",\"pay_mean\",\"pay_mid\",\"pay_std\",\"race_count\"]\n",
    "pay_data_mean=pay_data.sort_values(by='pay_mean', ascending=False)\n",
    "\n",
    "c =0\n",
    "for i in pay_data_mean.values:\n",
    "    if i[6] > 50:\n",
    "        print(\"{} {}{}m  平均{} 分散{} レース数{}\".format(i[0],str(i[1]),str(i[2]),str(i[3]),str(i[5]),str(i[6])))\n",
    "        c+=1\n",
    "    if c ==15:\n",
    "        break\n",
    "print(\"-\"*100)\n",
    "pay_data_mid=pay_data.sort_values(by='pay_mid', ascending=False)\n",
    "c=0\n",
    "for i in pay_data_mid.values:\n",
    "    if i[6] > 50:\n",
    "        print(\"{} {}{}m  中央値{} 分散{} レース数{}\".format(i[0],str(i[1]),str(i[2]),str(i[4]),str(i[5]),str(i[6])))\n",
    "        c+=1\n",
    "    if c ==15:\n",
    "        break\n",
    "print(\"-\"*100)\n",
    "pay_data_std=pay_data.sort_values(by='pay_std', ascending=True)\n",
    "c=0\n",
    "for i in pay_data_std.values:\n",
    "    if i[6] > 50:\n",
    "        print(\"{} {}{}m  平均{}/中央値{} 分散{} レース数{}\".format(i[0],str(i[1]),str(i[2]),str(i[3]),str(i[4]),str(i[5]),str(i[6])))\n",
    "        c+=1\n",
    "    if c ==15:\n",
    "        break"
   ]
  },
  {
   "cell_type": "code",
   "execution_count": 155,
   "metadata": {},
   "outputs": [
    {
     "name": "stdout",
     "output_type": "stream",
     "text": [
      "2017:中京 ダ1800m  平均117570.55555555556/中央値5475 分散748184.7383851904 レース数54\n",
      "2019:阪神 ダ1400m  平均65167.666666666664/中央値6720 分散186128.3085816884 レース数60\n",
      "2017:中山 ダ1800m  平均59755.267857142855/中央値6905 分散234300.61285389622 レース数112\n",
      "2017:京都 ダ1400m  平均58440.16949152543/中央値8560 分散171478.36516288665 レース数59\n",
      "2017:小倉 ダ1700m  平均45210.181818181816/中央値5640 分散158078.67868144024 レース数55\n",
      "2017:京都 ダ1800m  平均38966.52631578947/中央値6600 分散116324.33991626203 レース数95\n",
      "2018:新潟 ダ1800m  平均38108.813559322036/中央値7440 分散81854.25477292038 レース数59\n",
      "2019:阪神 ダ1800m  平均37864.395604395606/中央値3870 分散167164.05591320424 レース数91\n",
      "2016:京都 ダ1400m  平均37286.031746031746/中央値6280 分散84625.59661084173 レース数63\n",
      "2018:中山 ダ1800m  平均36815.625/中央値6550 分散98197.69885729052 レース数112\n",
      "2018:京都 ダ1200m  平均35225.27272727273/中央値8360 分散80032.23433588877 レース数55\n",
      "2017:中山 ダ1200m  平均30493.43137254902/中央値7820 分散71992.05208463383 レース数102\n",
      "2019:小倉 ダ1700m  平均30439.444444444445/中央値6270 分散95566.07936972531 レース数54\n",
      "2017:新潟 ダ1200m  平均29339.056603773584/中央値9610 分散58381.7825334684 レース数53\n",
      "2016:京都 ダ1200m  平均29065.333333333332/中央値7230 分散51181.63473146701 レース数60\n",
      "----------------------------------------------------------------------------------------------------\n",
      "2017:新潟 ダ1200m  平均29339.056603773584/中央値9610 分散58381.7825334684 レース数53\n",
      "2016:東京 ダ1400m  平均26008.395061728395/中央値9380 分散58731.493286327874 レース数81\n",
      "2017:京都 ダ1400m  平均58440.16949152543/中央値8560 分散171478.36516288665 レース数59\n",
      "2018:京都 ダ1200m  平均35225.27272727273/中央値8360 分散80032.23433588877 レース数55\n",
      "2018:新潟 ダ1200m  平均14873.77358490566/中央値8050 分散21650.754048550538 レース数53\n",
      "2019:京都 ダ1400m  平均24295.614035087718/中央値7990 分散57427.030905611726 レース数57\n",
      "2020:中山 ダ1200m  平均24221.375/中央値7935 分散35179.16632973361 レース数80\n",
      "2018:京都 ダ1400m  平均22869.137931034482/中央値7890 分散44861.60595339274 レース数58\n",
      "2017:中山 ダ1200m  平均30493.43137254902/中央値7820 分散71992.05208463383 レース数102\n",
      "2018:新潟 ダ1800m  平均38108.813559322036/中央値7440 分散81854.25477292038 レース数59\n",
      "2018:福島 ダ1700m  平均22055.178571428572/中央値7370 分散42022.413542864626 レース数56\n",
      "2018:東京 ダ1400m  平均24943.41772151899/中央値7320 分散67830.86559902516 レース数79\n",
      "2016:京都 ダ1200m  平均29065.333333333332/中央値7230 分散51181.63473146701 レース数60\n",
      "2017:東京 ダ1400m  平均25566.25/中央値7095 分散80260.7179699424 レース数80\n",
      "2019:福島 ダ1700m  平均27102.0/中央値7030 分散56703.93122435426 レース数55\n",
      "----------------------------------------------------------------------------------------------------\n",
      "2018:京都 ダ1800m  平均8130.8421052631575/中央値3170 分散13076.821760979272 レース数95\n",
      "2020:京都 ダ1800m  平均12467.222222222223/中央値4345 分散18571.363268424826 レース数54\n",
      "2018:中京 ダ1800m  平均15465.76923076923/中央値6505 分散20771.577521459825 レース数52\n",
      "2018:新潟 ダ1200m  平均14873.77358490566/中央値8050 分散21650.754048550538 レース数53\n",
      "2017:福島 ダ1700m  平均13083.214285714286/中央値4570 分散22393.163088694793 レース数56\n",
      "2017:新潟 ダ1800m  平均16971.0/中央値5945 分散26742.111062288946 レース数60\n",
      "2018:阪神 ダ1800m  平均14649.36170212766/中央値4645 分散30384.505240796327 レース数94\n",
      "2016:福島 ダ1700m  平均16639.821428571428/中央値5205 分散32363.014214662417 レース数56\n",
      "2019:中京 ダ1800m  平均13162.692307692309/中央値4185 分散32748.069250998215 レース数52\n",
      "2020:中山 ダ1200m  平均24221.375/中央値7935 分散35179.16632973361 レース数80\n",
      "2016:新潟 ダ1200m  平均17281.153846153848/中央値4905 分散40592.50339626602 レース数52\n",
      "2017:阪神 ダ1800m  平均19823.655913978495/中央値5640 分散41436.12682254738 レース数93\n",
      "2018:福島 ダ1700m  平均22055.178571428572/中央値7370 分散42022.413542864626 レース数56\n",
      "2019:東京 ダ1400m  平均21197.17948717949/中央値6980 分散42218.7041363704 レース数78\n",
      "2019:京都 ダ1200m  平均22833.962264150945/中央値5940 分散43028.52467749303 レース数53\n"
     ]
    }
   ],
   "source": [
    "df_p_ren3[\"year\"] = pd.to_datetime(df_p_ren3[\"race_date\"],format='%Y-%m-%d').dt.year\n",
    "pay_data = df_p_ren3.pivot_table(index=[\"year\",\"place\",\"kind\",\"distance\"],values='pay',aggfunc=[np.mean,np.median,np.std, len],fill_value=0).reset_index()\n",
    "pay_data.columns = [\"year\",\"place\",\"kind\",\"distance\",\"pay_mean\",\"pay_mid\",\"pay_std\",\"race_count\"]\n",
    "pay_data_mean=pay_data.sort_values(by='pay_mean', ascending=False)\n",
    "\n",
    "c =0\n",
    "for i in pay_data_mean.values:\n",
    "    if i[7] > 50:\n",
    "        print(\"{}:{} {}{}m  平均{}/中央値{} 分散{} レース数{}\".format(str(i[0]),i[1],str(i[2]),str(i[3]),str(i[4]),str(i[5]),str(i[6]),str(i[7])))\n",
    "        c+=1\n",
    "    if c ==15:\n",
    "        break\n",
    "print(\"-\"*100)\n",
    "pay_data_mid=pay_data.sort_values(by='pay_mid', ascending=False)\n",
    "c=0\n",
    "for i in pay_data_mid.values:\n",
    "    if i[7] > 50:\n",
    "        print(\"{}:{} {}{}m  平均{}/中央値{} 分散{} レース数{}\".format(str(i[0]),i[1],str(i[2]),str(i[3]),str(i[4]),str(i[5]),str(i[6]),str(i[7])))\n",
    "        c+=1\n",
    "    if c ==15:\n",
    "        break\n",
    "print(\"-\"*100)\n",
    "pay_data_std=pay_data.sort_values(by='pay_std', ascending=True)\n",
    "c=0\n",
    "for i in pay_data_std.values:\n",
    "    if i[7] > 50:\n",
    "        print(\"{}:{} {}{}m  平均{}/中央値{} 分散{} レース数{}\".format(str(i[0]),i[1],str(i[2]),str(i[3]),str(i[4]),str(i[5]),str(i[6]),str(i[7])))\n",
    "        c+=1\n",
    "    if c ==15:\n",
    "        break"
   ]
  },
  {
   "cell_type": "code",
   "execution_count": 152,
   "metadata": {},
   "outputs": [
    {
     "data": {
      "text/plain": [
       "0        2020\n",
       "1        2020\n",
       "2        2020\n",
       "3        2020\n",
       "4        2020\n",
       "         ... \n",
       "11440    2016\n",
       "11441    2016\n",
       "11442    2016\n",
       "11443    2016\n",
       "11444    2016\n",
       "Name: year, Length: 11445, dtype: int64"
      ]
     },
     "execution_count": 152,
     "metadata": {},
     "output_type": "execute_result"
    }
   ],
   "source": [
    "'''\n",
    "荒れそうなレースは、短距離レース\n",
    "'''"
   ]
  },
  {
   "cell_type": "code",
   "execution_count": 334,
   "metadata": {},
   "outputs": [],
   "source": [
    "df = pd.read_csv(\"../../data/horse_data_set.csv\")"
   ]
  },
  {
   "cell_type": "code",
   "execution_count": 361,
   "metadata": {},
   "outputs": [
    {
     "name": "stdout",
     "output_type": "stream",
     "text": [
      "<class 'pandas.core.frame.DataFrame'>\n",
      "RangeIndex: 1012624 entries, 0 to 1012623\n",
      "Data columns (total 41 columns):\n",
      " #   Column                 Non-Null Count    Dtype  \n",
      "---  ------                 --------------    -----  \n",
      " 0   pred_race_id           1012624 non-null  int64  \n",
      " 1   past_race_id           1012624 non-null  int64  \n",
      " 2   horse_id               1012624 non-null  int64  \n",
      " 3   horse_name             1012624 non-null  object \n",
      " 4   past_race_num          1012624 non-null  float64\n",
      " 5   pred_tyaku             1012624 non-null  int64  \n",
      " 6   pred_wakuban           1012624 non-null  int64  \n",
      " 7   pred_umaban            1012624 non-null  int64  \n",
      " 8   pred_horse_years       1012624 non-null  int64  \n",
      " 9   pred_horse_sex         1012624 non-null  object \n",
      " 10  pred_race_date         1012624 non-null  object \n",
      " 11  pred_race_rank1        1012624 non-null  object \n",
      " 12  pred_race_rank2        1012624 non-null  object \n",
      " 13  pred_kind              1012624 non-null  object \n",
      " 14  pred_distance          1012624 non-null  int64  \n",
      " 15  pred_condition         1012624 non-null  object \n",
      " 16  pred_place             1012624 non-null  object \n",
      " 17  past_tyaku             1012624 non-null  int64  \n",
      " 18  past_wakuban           1012624 non-null  int64  \n",
      " 19  past_umaban            1012624 non-null  int64  \n",
      " 20  past_horse_sex         1012624 non-null  object \n",
      " 21  past_horse_years       1012624 non-null  int64  \n",
      " 22  past_kinryo            1012624 non-null  float64\n",
      " 23  past_time              1008136 non-null  float64\n",
      " 24  past_last3f            1012624 non-null  float64\n",
      " 25  past_p1                1012624 non-null  int64  \n",
      " 26  past_p2                1012624 non-null  int64  \n",
      " 27  past_p3                1012624 non-null  int64  \n",
      " 28  past_p4                1012624 non-null  int64  \n",
      " 29  past_horse_weight      1008099 non-null  float64\n",
      " 30  past_dif_horse_weight  1008099 non-null  float64\n",
      " 31  past_race_date         1012624 non-null  object \n",
      " 32  past_race_rank1        1012624 non-null  object \n",
      " 33  past_race_rank2        1012624 non-null  object \n",
      " 34  past_distance          1012624 non-null  int64  \n",
      " 35  past_kind              1012624 non-null  object \n",
      " 36  past_condition         1012624 non-null  object \n",
      " 37  past_place             1012624 non-null  object \n",
      " 38  past_horse_count       1012624 non-null  int64  \n",
      " 39  past_lap_time          1012624 non-null  object \n",
      " 40  past_dif_time          1008136 non-null  float64\n",
      "dtypes: float64(7), int64(18), object(16)\n",
      "memory usage: 316.8+ MB\n"
     ]
    }
   ],
   "source": [
    "df.info()"
   ]
  },
  {
   "cell_type": "code",
   "execution_count": 362,
   "metadata": {},
   "outputs": [],
   "source": [
    "df[\"pred_race_date\"] = pd.to_datetime(df[\"pred_race_date\"],format='%Y-%m-%d')\n",
    "df[\"past_race_date\"] = pd.to_datetime(df[\"past_race_date\"],format='%Y-%m-%d')"
   ]
  },
  {
   "cell_type": "code",
   "execution_count": 363,
   "metadata": {},
   "outputs": [],
   "source": [
    "red = df[df[\"horse_name\"]==\"レッドアステル\"].groupby(\"pred_race_id\").count().reset_index()"
   ]
  },
  {
   "cell_type": "code",
   "execution_count": 364,
   "metadata": {},
   "outputs": [
    {
     "data": {
      "text/html": [
       "<div>\n",
       "<style scoped>\n",
       "    .dataframe tbody tr th:only-of-type {\n",
       "        vertical-align: middle;\n",
       "    }\n",
       "\n",
       "    .dataframe tbody tr th {\n",
       "        vertical-align: top;\n",
       "    }\n",
       "\n",
       "    .dataframe thead th {\n",
       "        text-align: right;\n",
       "    }\n",
       "</style>\n",
       "<table border=\"1\" class=\"dataframe\">\n",
       "  <thead>\n",
       "    <tr style=\"text-align: right;\">\n",
       "      <th></th>\n",
       "      <th>past_race_id</th>\n",
       "      <th>race_date</th>\n",
       "      <th>race_name</th>\n",
       "    </tr>\n",
       "  </thead>\n",
       "  <tbody>\n",
       "    <tr>\n",
       "      <th>2</th>\n",
       "      <td>1</td>\n",
       "      <td>2019-04-07</td>\n",
       "      <td>第79回桜花賞(G1)</td>\n",
       "    </tr>\n",
       "    <tr>\n",
       "      <th>0</th>\n",
       "      <td>2</td>\n",
       "      <td>2019-08-24</td>\n",
       "      <td>ルスツ特別</td>\n",
       "    </tr>\n",
       "    <tr>\n",
       "      <th>1</th>\n",
       "      <td>3</td>\n",
       "      <td>2019-10-15</td>\n",
       "      <td>山中湖特別</td>\n",
       "    </tr>\n",
       "    <tr>\n",
       "      <th>3</th>\n",
       "      <td>4</td>\n",
       "      <td>2020-04-04</td>\n",
       "      <td>湾岸ステークス</td>\n",
       "    </tr>\n",
       "  </tbody>\n",
       "</table>\n",
       "</div>"
      ],
      "text/plain": [
       "   past_race_id   race_date    race_name\n",
       "2             1  2019-04-07  第79回桜花賞(G1)\n",
       "0             2  2019-08-24        ルスツ特別\n",
       "1             3  2019-10-15        山中湖特別\n",
       "3             4  2020-04-04      湾岸ステークス"
      ]
     },
     "execution_count": 364,
     "metadata": {},
     "output_type": "execute_result"
    }
   ],
   "source": [
    "red.merge(df_i,how='inner',left_on=\"pred_race_id\",right_on='race_id' )[[\"past_race_id\",\"race_date\",\"race_name\"]].sort_values(by=\"race_date\")\n"
   ]
  },
  {
   "cell_type": "code",
   "execution_count": 365,
   "metadata": {},
   "outputs": [],
   "source": [
    "#上位人気の馬券外かどうかの予測\n",
    "#model_v1の精度向上"
   ]
  },
  {
   "cell_type": "code",
   "execution_count": 410,
   "metadata": {},
   "outputs": [],
   "source": [
    "#前走ver\n",
    "df_past1 = df[df[\"past_race_num\"]==1]"
   ]
  },
  {
   "cell_type": "code",
   "execution_count": 411,
   "metadata": {},
   "outputs": [
    {
     "data": {
      "text/plain": [
       "(139795, 41)"
      ]
     },
     "execution_count": 411,
     "metadata": {},
     "output_type": "execute_result"
    }
   ],
   "source": [
    "df_past1.shape"
   ]
  },
  {
   "cell_type": "code",
   "execution_count": 412,
   "metadata": {},
   "outputs": [
    {
     "data": {
      "text/plain": [
       "Index(['pred_race_id', 'past_race_id', 'horse_id', 'horse_name',\n",
       "       'past_race_num', 'pred_tyaku', 'pred_wakuban', 'pred_umaban',\n",
       "       'pred_horse_years', 'pred_horse_sex', 'pred_race_date',\n",
       "       'pred_race_rank1', 'pred_race_rank2', 'pred_kind', 'pred_distance',\n",
       "       'pred_condition', 'pred_place', 'past_tyaku', 'past_wakuban',\n",
       "       'past_umaban', 'past_horse_sex', 'past_horse_years', 'past_kinryo',\n",
       "       'past_time', 'past_last3f', 'past_p1', 'past_p2', 'past_p3', 'past_p4',\n",
       "       'past_horse_weight', 'past_dif_horse_weight', 'past_race_date',\n",
       "       'past_race_rank1', 'past_race_rank2', 'past_distance', 'past_kind',\n",
       "       'past_condition', 'past_place', 'past_horse_count', 'past_lap_time',\n",
       "       'past_dif_time'],\n",
       "      dtype='object')"
      ]
     },
     "execution_count": 412,
     "metadata": {},
     "output_type": "execute_result"
    }
   ],
   "source": [
    "df_past1.columns"
   ]
  },
  {
   "cell_type": "code",
   "execution_count": 413,
   "metadata": {},
   "outputs": [],
   "source": [
    "def category_set(line):\n",
    "    cate_sex  = {'牝':0,'牡':1,'セ':2}\n",
    "    cate_place = {'東京':0,'中山':1,'阪神':2,'京都':3,'小倉':4,'新潟':5,'福島':6,'中京':7,'札幌':8,'函館':9}\n",
    "    cate_condition ={'良':0,'稍重':1,'稍':1,'重':2,'不良':3,'不':3}\n",
    "    cate_rank2   = {'新馬':0,'未勝利':1,'500万下':2,'1000万下':3,'1600万下':4,'オープン':5,'1勝クラス':2,'2勝クラス':3,'3勝クラス':4,}\n",
    "    cate_rank1 = {'2歳':0,'3歳':1,'3歳以上':2,'4歳以上':3}\n",
    "    cate_kind = {'芝':0,'ダ':1,'ダート':1}\n",
    "    line['past_horse_sex'] = cate_sex.get(line[\"past_horse_sex\"])\n",
    "    line['past_p1'] = line[\"past_p1\"] / line[\"past_horse_count\"]\n",
    "    line['past_p2'] = line[\"past_p2\"] / line[\"past_horse_count\"]\n",
    "    line['past_p3'] = line[\"past_p3\"] / line[\"past_horse_count\"]\n",
    "    line['past_p4'] = line[\"past_p4\"] / line[\"past_horse_count\"]\n",
    "    line['past_pg'] = line[\"past_tyaku\"] / line[\"past_horse_count\"]\n",
    "    line['past_race_rank1'] = cate_rank1.get(line[\"past_race_rank1\"])\n",
    "    line['past_race_rank2'] = cate_rank2.get(line[\"past_race_rank2\"])\n",
    "    line['past_kind'] = cate_kind.get(line[\"past_kind\"])\n",
    "    line['past_condition'] = cate_condition.get(line[\"past_condition\"])\n",
    "    line['past_place'] = cate_place.get(line[\"past_place\"])\n",
    "    line['pred_horse_sex'] = cate_sex.get(line[\"pred_horse_sex\"])\n",
    "    line['pred_race_rank1'] = cate_rank1.get(line[\"pred_race_rank1\"])\n",
    "    line['pred_race_rank2'] = cate_rank2.get(line[\"pred_race_rank2\"])\n",
    "    line['pred_place'] = cate_place.get(line[\"pred_place\"])\n",
    "    line['pred_condition'] = cate_condition.get(line[\"pred_condition\"])\n",
    "    line['pred_kind'] = cate_kind.get(line[\"pred_kind\"].replace(\" \",\"\"))\n",
    "    line['lotation'] = (line[\"pred_race_date\"] - line[\"past_race_date\"]).days\n",
    "    return line\n",
    "df_past1 = df_past1.apply(category_set,axis=1)"
   ]
  },
  {
   "cell_type": "code",
   "execution_count": null,
   "metadata": {},
   "outputs": [],
   "source": []
  },
  {
   "cell_type": "code",
   "execution_count": 371,
   "metadata": {},
   "outputs": [],
   "source": [
    "def race_laptime(elm):\n",
    "    lap = elm.split('-')\n",
    "    lap = [float(l) for l in lap]\n",
    "    lap_set = []\n",
    "    lap_set.append(lap[0])\n",
    "    lap_set.append(lap[1])\n",
    "    lap_set.append(lap[2])\n",
    "    lap_set.append(lap[-2])\n",
    "    lap_set.append(lap[-1])\n",
    "    s = pd.Series(lap_set, index=[\"lapf1\",\"lapf2\",\"lapf3\",\"lapl2\",\"lapl1\"])\n",
    "    return s\n",
    "df_past1[[\"lapf1\",\"lapf2\",\"lapf3\",\"lapl2\",\"lapl1\"]] = df_past1.past_lap_time.apply(race_laptime)"
   ]
  },
  {
   "cell_type": "code",
   "execution_count": 414,
   "metadata": {},
   "outputs": [
    {
     "data": {
      "text/plain": [
       "<matplotlib.axes._subplots.AxesSubplot at 0x7f9e064de790>"
      ]
     },
     "execution_count": 414,
     "metadata": {},
     "output_type": "execute_result"
    },
    {
     "data": {
      "image/png": "[encoded data removed]",
      "text/plain": [
       "<Figure size 432x288 with 2 Axes>"
      ]
     },
     "metadata": {
      "needs_background": "light"
     },
     "output_type": "display_data"
    }
   ],
   "source": [
    "#heat_mapを確認\n",
    "cols = ['pred_tyaku', 'lotation', 'past_pg', 'past_place', 'past_p4','past_dif_horse_weight']\n",
    "cm = np.corrcoef(df_past1[cols].values.T)\n",
    "sns.heatmap(cm,cbar=True,annot=True,yticklabels=cols,xticklabels=cols)"
   ]
  },
  {
   "cell_type": "code",
   "execution_count": 408,
   "metadata": {},
   "outputs": [
    {
     "data": {
      "text/plain": [
       "<matplotlib.axes._subplots.AxesSubplot at 0x7f9ddc6b3f10>"
      ]
     },
     "execution_count": 408,
     "metadata": {},
     "output_type": "execute_result"
    },
    {
     "data": {
      "image/png": "[encoded data removed]",
      "text/plain": [
       "<Figure size 432x288 with 2 Axes>"
      ]
     },
     "metadata": {
      "needs_background": "light"
     },
     "output_type": "display_data"
    }
   ],
   "source": [
    "cm = df_past1[cols].corr().values\n",
    "sns.heatmap(cm,cbar=True,annot=True,yticklabels=cols,xticklabels=cols)"
   ]
  },
  {
   "cell_type": "code",
   "execution_count": 391,
   "metadata": {},
   "outputs": [
    {
     "data": {
      "text/plain": [
       "0          1.3\n",
       "2          1.8\n",
       "10         2.2\n",
       "14         1.4\n",
       "18         1.4\n",
       "          ... \n",
       "1012559    0.3\n",
       "1012571    1.3\n",
       "1012581    1.5\n",
       "1012588    0.4\n",
       "1012604    0.6\n",
       "Name: past_dif_time, Length: 139795, dtype: float64"
      ]
     },
     "execution_count": 391,
     "metadata": {},
     "output_type": "execute_result"
    }
   ],
   "source": [
    "df_past1.past_dif_time"
   ]
  },
  {
   "cell_type": "code",
   "execution_count": 1,
   "metadata": {},
   "outputs": [],
   "source": [
    "from google.cloud import storage"
   ]
  },
  {
   "cell_type": "code",
   "execution_count": 7,
   "metadata": {},
   "outputs": [],
   "source": [
    "import os\n",
    "os.environ[\"GOOGLE_APPLICATION_CREDENTIALS\"]='/home/h-kobayashi/nth-computing-270722-763ccf51011e.json'\n",
    "project_id = \"nth-computing-270722\"\n",
    "client = storage.Client(project_id)"
   ]
  },
  {
   "cell_type": "code",
   "execution_count": 16,
   "metadata": {},
   "outputs": [],
   "source": [
    "blobs =  client.list_blobs(\"model1\",prefix='model/model1')"
   ]
  },
  {
   "cell_type": "code",
   "execution_count": 17,
   "metadata": {},
   "outputs": [
    {
     "name": "stdout",
     "output_type": "stream",
     "text": [
      "model/model1/model0.pickle\n",
      "model/model1/model1.pickle\n",
      "model/model1/model2.pickle\n",
      "model/model1/model3.pickle\n",
      "model/model1/model4.pickle\n",
      "model/model1/model5.pickle\n",
      "model/model1/model6.pickle\n",
      "model/model1/model7.pickle\n",
      "model/model1/model8.pickle\n",
      "model/model1/model9.pickle\n"
     ]
    }
   ],
   "source": [
    "for blob in blobs:\n",
    "    bucket = blob.bucket\n",
    "    blob = bucket.get_blob(blob.name)\n",
    "    print(blob.name)"
   ]
  },
  {
   "cell_type": "code",
   "execution_count": null,
   "metadata": {},
   "outputs": [],
   "source": []
  },
  {
   "cell_type": "code",
   "execution_count": null,
   "metadata": {},
   "outputs": [],
   "source": []
  },
  {
   "cell_type": "code",
   "execution_count": null,
   "metadata": {},
   "outputs": [],
   "source": []
  },
  {
   "cell_type": "code",
   "execution_count": null,
   "metadata": {},
   "outputs": [],
   "source": []
  },
  {
   "cell_type": "code",
   "execution_count": null,
   "metadata": {},
   "outputs": [],
   "source": []
  },
  {
   "cell_type": "code",
   "execution_count": null,
   "metadata": {},
   "outputs": [],
   "source": []
  },
  {
   "cell_type": "code",
   "execution_count": null,
   "metadata": {},
   "outputs": [],
   "source": []
  }
 ],
 "metadata": {
  "kernelspec": {
   "display_name": "Python 3",
   "language": "python",
   "name": "python3"
  },
  "language_info": {
   "codemirror_mode": {
    "name": "ipython",
    "version": 3
   },
   "file_extension": ".py",
   "mimetype": "text/x-python",
   "name": "python",
   "nbconvert_exporter": "python",
   "pygments_lexer": "ipython3",
   "version": "3.7.6"
  }
 },
 "nbformat": 4,
 "nbformat_minor": 4
}
