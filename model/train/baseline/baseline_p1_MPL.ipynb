{
 "cells": [
  {
   "cell_type": "markdown",
   "metadata": {},
   "source": [
    "# Keras \n",
    " - 前走のデータを使った予測モデル\n",
    " - 3着までを1、それ以外を0とした2値分類"
   ]
  },
  {
   "cell_type": "code",
   "execution_count": 2,
   "metadata": {},
   "outputs": [],
   "source": [
    "import numpy as np\n",
    "import pandas as pd\n",
    "import sqlite3\n",
    "import matplotlib.pyplot as plt\n",
    "import seaborn as sns\n",
    "from sklearn.model_selection import train_test_split,StratifiedKFold,KFold,train_test_split\n",
    "from sklearn import metrics\n",
    "import lightgbm as lgb"
   ]
  },
  {
   "cell_type": "code",
   "execution_count": 4,
   "metadata": {},
   "outputs": [],
   "source": [
    "#データの読み込み\n",
    "df = pd.read_csv(\"../../data/baseline_data.csv\")\n",
    "#target\n",
    "df[\"target\"] = df.pred_tyaku.apply(lambda x : 1 if x < 4 else 0)\n",
    "df_past1 = df[(df[\"past_race_num\"]==1)]"
   ]
  },
  {
   "cell_type": "code",
   "execution_count": null,
   "metadata": {},
   "outputs": [],
   "source": [
    "learn_data = df_past1.sample(frac=1,random_state=1)\n",
    "X          = learn_data.iloc[:,4:-1].values\n",
    "y          = learn_data.target.values\n",
    "x_columns  = learn_data.iloc[:,4:-1].columns\n",
    "\n",
    "X_train,X_test,y_train,y_test = train_test_split(X,y,train_size=0.8,stratify=y,random_state=1)"
   ]
  },
  {
   "cell_type": "code",
   "execution_count": 5,
   "metadata": {},
   "outputs": [
    {
     "data": {
      "text/plain": [
       "pred_race_id                 0\n",
       "horse_id                     0\n",
       "past_race_num                0\n",
       "pred_tyaku                   0\n",
       "pred_umaban                  0\n",
       "pred_horse_years             0\n",
       "pred_horse_sex               0\n",
       "pred_race_rank1              0\n",
       "pred_race_rank2              0\n",
       "pred_kind                    0\n",
       "pred_distance                0\n",
       "pred_condition               0\n",
       "pred_place                   0\n",
       "pred_horse_weight          971\n",
       "pred_dif_horse_weight      971\n",
       "past_umaban                  0\n",
       "past_horse_sex               0\n",
       "past_horse_years             0\n",
       "past_kinryo                  0\n",
       "past_time                  727\n",
       "past_last3f                  0\n",
       "past_p1                      0\n",
       "past_p2                      0\n",
       "past_p3                      0\n",
       "past_p4                      0\n",
       "past_horse_weight          737\n",
       "past_dif_horse_weight      737\n",
       "past_race_rank1              0\n",
       "past_race_rank2              0\n",
       "past_distance                0\n",
       "past_kind                    0\n",
       "past_condition               0\n",
       "past_place                   0\n",
       "past_dif_time              727\n",
       "past_dif_time1           11411\n",
       "past_dif_time2            8013\n",
       "h_last3f                     0\n",
       "first_past                   0\n",
       "dif_past                     0\n",
       "past_pg                      0\n",
       "dif_past2                    0\n",
       "lotation                     0\n",
       "lapf1                        0\n",
       "lapf2                        0\n",
       "lapf3                        0\n",
       "lapl3                        0\n",
       "lapl2                        0\n",
       "lapl1                        0\n",
       "dif_lap21                    0\n",
       "dif_lap32                    0\n",
       "dif_lap43                    0\n",
       "race_dif_3f                  0\n",
       "race_first_3f                0\n",
       "race_last_3f                 0\n",
       "dif_distance                 0\n",
       "target                       0\n",
       "dtype: int64"
      ]
     },
     "execution_count": 5,
     "metadata": {},
     "output_type": "execute_result"
    }
   ],
   "source": [
    "df_past1.isnull().sum()"
   ]
  },
  {
   "cell_type": "code",
   "execution_count": null,
   "metadata": {},
   "outputs": [],
   "source": []
  },
  {
   "cell_type": "code",
   "execution_count": null,
   "metadata": {},
   "outputs": [],
   "source": []
  },
  {
   "cell_type": "code",
   "execution_count": null,
   "metadata": {},
   "outputs": [],
   "source": []
  },
  {
   "cell_type": "code",
   "execution_count": null,
   "metadata": {},
   "outputs": [],
   "source": []
  },
  {
   "cell_type": "code",
   "execution_count": null,
   "metadata": {},
   "outputs": [],
   "source": []
  }
 ],
 "metadata": {
  "kernelspec": {
   "display_name": "Python 3",
   "language": "python",
   "name": "python3"
  },
  "language_info": {
   "codemirror_mode": {
    "name": "ipython",
    "version": 3
   },
   "file_extension": ".py",
   "mimetype": "text/x-python",
   "name": "python",
   "nbconvert_exporter": "python",
   "pygments_lexer": "ipython3",
   "version": "3.7.6"
  }
 },
 "nbformat": 4,
 "nbformat_minor": 4
}
