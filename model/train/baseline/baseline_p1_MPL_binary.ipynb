{
 "cells": [
  {
   "cell_type": "markdown",
   "metadata": {},
   "source": [
    "# Keras \n",
    " - 前走のデータを使った予測モデル\n",
    " - 3着までを1、それ以外を0とした2値分類"
   ]
  },
  {
   "cell_type": "code",
   "execution_count": 1,
   "metadata": {},
   "outputs": [
    {
     "name": "stderr",
     "output_type": "stream",
     "text": [
      "Using TensorFlow backend.\n"
     ]
    },
    {
     "data": {
      "text/plain": [
       "'\\nphysical_devices = tf.config.experimental.list_physical_devices(\\'GPU\\')\\nif len(physical_devices) > 0:\\n    for k in range(len(physical_devices)):\\n        tf.config.experimental.set_memory_growth(physical_devices[k], True)\\n        print(\\'memory growth:\\', tf.config.experimental.get_memory_growth(physical_devices[k]))\\nelse:\\n    print(\"Not enough GPU hardware devices available\")\\n'"
      ]
     },
     "execution_count": 1,
     "metadata": {},
     "output_type": "execute_result"
    }
   ],
   "source": [
    "import numpy as np\n",
    "import pandas as pd\n",
    "import sqlite3\n",
    "import matplotlib.pyplot as plt\n",
    "import seaborn as sns\n",
    "from sklearn.model_selection import train_test_split,StratifiedKFold,KFold\n",
    "from sklearn.preprocessing import StandardScaler\n",
    "\n",
    "from sklearn import metrics\n",
    "\n",
    "from keras.models import Sequential\n",
    "from keras.layers import Dense\n",
    "import tensorflow as tf\n",
    "\n",
    "#GPUメモリの制御\n",
    "physical_devices = tf.config.experimental.list_physical_devices('GPU')\n",
    "if len(physical_devices) > 0:\n",
    "    for k in range(len(physical_devices)):\n",
    "        tf.config.experimental.set_memory_growth(physical_devices[k], True)\n",
    "        print('memory growth:', tf.config.experimental.get_memory_growth(physical_devices[k]))\n",
    "else:\n",
    "    print(\"Not enough GPU hardware devices available\")\n"
   ]
  },
  {
   "cell_type": "code",
   "execution_count": 2,
   "metadata": {},
   "outputs": [],
   "source": [
    "#データの読み込み\n",
    "df = pd.read_csv(\"../../data/baseline_data.csv\")\n",
    "df_past1 = df[(df[\"past_race_num\"]==1)]"
   ]
  },
  {
   "cell_type": "code",
   "execution_count": 3,
   "metadata": {},
   "outputs": [],
   "source": [
    "#最低限の前処理\n",
    "df_past1 = df_past1.fillna({'past_dif_time1': 0, 'past_dif_time2': 0})\n",
    "df_past1 = df_past1.dropna(how='any')\n",
    "columns = [\"pred_horse_sex\",\n",
    "          \"pred_race_rank1\",\n",
    "          \"pred_race_rank2\",\n",
    "          \"pred_kind\",\n",
    "          \"pred_distance\",\n",
    "          \"pred_condition\",\n",
    "          \"pred_place\",\n",
    "          \"past_horse_sex\",\n",
    "          \"past_race_rank1\",\n",
    "          \"past_race_rank2\",\n",
    "          \"past_distance\",\n",
    "          \"past_kind\",\n",
    "          \"past_condition\",\n",
    "          \"past_place\"]\n",
    "df_past1 = pd.get_dummies(df_past1, drop_first=True, columns=columns)\n",
    "#target\n",
    "df_past1[\"target\"] = df_past1.pred_tyaku.apply(lambda x : 1 if x < 4 else 0)\n",
    "\n"
   ]
  },
  {
   "cell_type": "code",
   "execution_count": 4,
   "metadata": {},
   "outputs": [],
   "source": [
    "learn_data = df_past1.sample(frac=1,random_state=1)\n",
    "scaler = StandardScaler()\n",
    "\n",
    "X          = learn_data.iloc[:,4:-1].values\n",
    "X          = scaler.fit_transform(X)\n",
    "y          = learn_data.target.values\n",
    "x_columns  = learn_data.iloc[:,4:-1].columns\n",
    "\n",
    "X_train,X_test,y_train,y_test = train_test_split(X,y,train_size=0.8,stratify=y,random_state=1)"
   ]
  },
  {
   "cell_type": "code",
   "execution_count": 5,
   "metadata": {},
   "outputs": [],
   "source": [
    "#model\n",
    "def create_model(optimizer='adam',init = 'glorot_normal',input_dim=None):\n",
    "    model= Sequential()\n",
    "    model.add(Dense(128,input_dim=input_dim,kernel_initializer=init,activation='relu'))\n",
    "    model.add(Dense(256,kernel_initializer=init,activation='relu'))\n",
    "    model.add(Dense(128,kernel_initializer=init,activation='relu'))\n",
    "    model.add(Dense(64,kernel_initializer=init,activation='relu'))\n",
    "    model.add(Dense(1, kernel_initializer=init,activation='sigmoid'))\n",
    "    model.compile(loss='binary_crossentropy',optimizer=optimizer,metrics=['accuracy'])\n",
    "    return model"
   ]
  },
  {
   "cell_type": "code",
   "execution_count": 6,
   "metadata": {},
   "outputs": [],
   "source": [
    "model = create_model(input_dim = X.shape[1])"
   ]
  },
  {
   "cell_type": "code",
   "execution_count": 8,
   "metadata": {},
   "outputs": [
    {
     "name": "stdout",
     "output_type": "stream",
     "text": [
      "Train on 110475 samples, validate on 27619 samples\n",
      "Epoch 1/20\n",
      "110475/110475 [==============================] - 7s 63us/step - loss: 0.4738 - accuracy: 0.7848 - val_loss: 0.4629 - val_accuracy: 0.7880\n",
      "Epoch 2/20\n",
      "110475/110475 [==============================] - 7s 61us/step - loss: 0.4612 - accuracy: 0.7902 - val_loss: 0.4604 - val_accuracy: 0.7889\n",
      "Epoch 3/20\n",
      "110475/110475 [==============================] - 7s 62us/step - loss: 0.4566 - accuracy: 0.7928 - val_loss: 0.4605 - val_accuracy: 0.7903\n",
      "Epoch 4/20\n",
      "110475/110475 [==============================] - 7s 61us/step - loss: 0.4533 - accuracy: 0.7951 - val_loss: 0.4583 - val_accuracy: 0.7899\n",
      "Epoch 5/20\n",
      "110475/110475 [==============================] - 7s 61us/step - loss: 0.4495 - accuracy: 0.7968 - val_loss: 0.4599 - val_accuracy: 0.7892\n",
      "Epoch 6/20\n",
      "110475/110475 [==============================] - 7s 61us/step - loss: 0.4458 - accuracy: 0.7981 - val_loss: 0.4609 - val_accuracy: 0.7879\n",
      "Epoch 7/20\n",
      "110475/110475 [==============================] - 7s 61us/step - loss: 0.4404 - accuracy: 0.8005 - val_loss: 0.4640 - val_accuracy: 0.7899\n",
      "Epoch 8/20\n",
      "110475/110475 [==============================] - 7s 61us/step - loss: 0.4353 - accuracy: 0.8030 - val_loss: 0.4688 - val_accuracy: 0.7878\n",
      "Epoch 9/20\n",
      "110475/110475 [==============================] - 7s 61us/step - loss: 0.4283 - accuracy: 0.8062 - val_loss: 0.4743 - val_accuracy: 0.7866\n",
      "Epoch 10/20\n",
      "110475/110475 [==============================] - 7s 63us/step - loss: 0.4208 - accuracy: 0.8087 - val_loss: 0.4775 - val_accuracy: 0.7836\n",
      "Epoch 11/20\n",
      "110475/110475 [==============================] - 7s 61us/step - loss: 0.4129 - accuracy: 0.8131 - val_loss: 0.4887 - val_accuracy: 0.7805\n",
      "Epoch 12/20\n",
      "110475/110475 [==============================] - 7s 62us/step - loss: 0.4031 - accuracy: 0.8180 - val_loss: 0.5013 - val_accuracy: 0.7800\n",
      "Epoch 13/20\n",
      "110475/110475 [==============================] - 7s 61us/step - loss: 0.3939 - accuracy: 0.8224 - val_loss: 0.5064 - val_accuracy: 0.7730\n",
      "Epoch 14/20\n",
      "110475/110475 [==============================] - 7s 61us/step - loss: 0.3844 - accuracy: 0.8265 - val_loss: 0.5144 - val_accuracy: 0.7764\n",
      "Epoch 15/20\n",
      "110475/110475 [==============================] - 7s 61us/step - loss: 0.3744 - accuracy: 0.8315 - val_loss: 0.5378 - val_accuracy: 0.7680\n",
      "Epoch 16/20\n",
      "110475/110475 [==============================] - 7s 62us/step - loss: 0.3636 - accuracy: 0.8369 - val_loss: 0.5576 - val_accuracy: 0.7736\n",
      "Epoch 17/20\n",
      "110475/110475 [==============================] - 7s 62us/step - loss: 0.3554 - accuracy: 0.8418 - val_loss: 0.5728 - val_accuracy: 0.7679\n",
      "Epoch 18/20\n",
      "110475/110475 [==============================] - 7s 62us/step - loss: 0.3448 - accuracy: 0.8467 - val_loss: 0.6074 - val_accuracy: 0.7681\n",
      "Epoch 19/20\n",
      "110475/110475 [==============================] - 7s 61us/step - loss: 0.3355 - accuracy: 0.8511 - val_loss: 0.6165 - val_accuracy: 0.7669\n",
      "Epoch 20/20\n",
      "110475/110475 [==============================] - 7s 62us/step - loss: 0.3269 - accuracy: 0.8559 - val_loss: 0.6409 - val_accuracy: 0.7618\n"
     ]
    }
   ],
   "source": [
    "fit = model.fit(x=X_train,y=y_train,\n",
    "         validation_data=(X_test,y_test),\n",
    "         epochs=20,\n",
    "         batch_size = 32,\n",
    "         shuffle=True)"
   ]
  },
  {
   "cell_type": "code",
   "execution_count": 9,
   "metadata": {},
   "outputs": [
    {
     "name": "stdout",
     "output_type": "stream",
     "text": [
      "auc 0.6663063614910356\n"
     ]
    },
    {
     "data": {
      "image/png": "[encoded data removed]",
      "text/plain": [
       "<Figure size 432x288 with 1 Axes>"
      ]
     },
     "metadata": {
      "needs_background": "light"
     },
     "output_type": "display_data"
    }
   ],
   "source": [
    "#auc\n",
    "result_pred = model.predict(X_test)\n",
    "auc = metrics.roc_auc_score(y_test, result_pred)\n",
    "print(\"auc\",auc)\n",
    "fpr, tpr, thresholds = metrics.roc_curve(y_test, result_pred)\n",
    "auc = metrics.auc(fpr, tpr)\n",
    "plt.plot(fpr, tpr, label='SVC (AUC = %.2f)'%auc)\n",
    "plt.legend()\n",
    "plt.xlim([0, 1])\n",
    "plt.ylim([0, 1])\n",
    "plt.title('ROC curve')\n",
    "plt.xlabel('False Positive Rate')\n",
    "plt.ylabel('True Positive Rate')\n",
    "plt.grid(True)\n",
    "plt.show()"
   ]
  },
  {
   "cell_type": "code",
   "execution_count": 10,
   "metadata": {},
   "outputs": [
    {
     "name": "stdout",
     "output_type": "stream",
     "text": [
      "train (epoch:20/loss:0.3268551815435557)\n",
      "test  (epoch:20/loss:0.6408554666863011)\n"
     ]
    },
    {
     "data": {
      "image/png": "[encoded data removed]",
      "text/plain": [
       "<Figure size 432x288 with 1 Axes>"
      ]
     },
     "metadata": {
      "needs_background": "light"
     },
     "output_type": "display_data"
    }
   ],
   "source": [
    "#loss\n",
    "def loss_plot(train_loss,test_loss):\n",
    "    print(\"train (epoch:{}/loss:{})\" .format( str(len(train_loss)) , str(train_loss[-1])))\n",
    "    print(\"test  (epoch:{}/loss:{})\" .format( str(len(test_loss)) , str(test_loss[-1])))\n",
    "    plt.figure()\n",
    "    plt.plot(np.arange(0,len(train_loss)),train_loss,label=\"loss for training\")\n",
    "    plt.plot(np.arange(0,len(test_loss)),test_loss,label=\"loss for validation\")\n",
    "\n",
    "    plt.legend()\n",
    "    plt.title('model loss')\n",
    "    plt.xlabel('epoch')\n",
    "    plt.ylabel('loss')\n",
    "    plt.legend(loc='upper right')\n",
    "    plt.show()\n",
    "#run\n",
    "loss_plot(fit.history['loss'],fit.history['val_loss'])"
   ]
  },
  {
   "cell_type": "code",
   "execution_count": null,
   "metadata": {},
   "outputs": [],
   "source": []
  },
  {
   "cell_type": "code",
   "execution_count": null,
   "metadata": {},
   "outputs": [],
   "source": []
  },
  {
   "cell_type": "code",
   "execution_count": null,
   "metadata": {},
   "outputs": [],
   "source": []
  },
  {
   "cell_type": "code",
   "execution_count": null,
   "metadata": {},
   "outputs": [],
   "source": []
  },
  {
   "cell_type": "code",
   "execution_count": null,
   "metadata": {},
   "outputs": [],
   "source": []
  }
 ],
 "metadata": {
  "kernelspec": {
   "display_name": "Python 3",
   "language": "python",
   "name": "python3"
  },
  "language_info": {
   "codemirror_mode": {
    "name": "ipython",
    "version": 3
   },
   "file_extension": ".py",
   "mimetype": "text/x-python",
   "name": "python",
   "nbconvert_exporter": "python",
   "pygments_lexer": "ipython3",
   "version": "3.7.6"
  }
 },
 "nbformat": 4,
 "nbformat_minor": 4
}
