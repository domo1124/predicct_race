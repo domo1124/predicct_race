{
 "cells": [
  {
   "cell_type": "markdown",
   "metadata": {},
   "source": [
    "# Keras \n",
    " - 前走のデータを使った予測モデル\n",
    " - 3着までを1、それ以外を0とした2値分類"
   ]
  },
  {
   "cell_type": "code",
   "execution_count": 16,
   "metadata": {},
   "outputs": [
    {
     "name": "stdout",
     "output_type": "stream",
     "text": [
      "memory growth: True\n"
     ]
    }
   ],
   "source": [
    "import numpy as np\n",
    "import pandas as pd\n",
    "import sqlite3\n",
    "import matplotlib.pyplot as plt\n",
    "import seaborn as sns\n",
    "from sklearn.model_selection import train_test_split,StratifiedKFold,KFold\n",
    "from sklearn.preprocessing import StandardScaler\n",
    "\n",
    "from sklearn import metrics\n",
    "\n",
    "from keras.models import Sequential\n",
    "from keras.layers import Dense\n",
    "import tensorflow as tf\n",
    "\n",
    "#GPUメモリの制御\n",
    "physical_devices = tf.config.experimental.list_physical_devices('GPU')\n",
    "if len(physical_devices) > 0:\n",
    "    for k in range(len(physical_devices)):\n",
    "        tf.config.experimental.set_memory_growth(physical_devices[k], True)\n",
    "        print('memory growth:', tf.config.experimental.get_memory_growth(physical_devices[k]))\n",
    "else:\n",
    "    print(\"Not enough GPU hardware devices available\")"
   ]
  },
  {
   "cell_type": "code",
   "execution_count": 17,
   "metadata": {},
   "outputs": [],
   "source": [
    "#データの読み込み\n",
    "df = pd.read_csv(\"../../data/baseline_data.csv\")\n",
    "df_past2 = df[(df[\"past_race_num\"]==2)]"
   ]
  },
  {
   "cell_type": "code",
   "execution_count": 18,
   "metadata": {},
   "outputs": [],
   "source": [
    "#最低限の前処理\n",
    "df_past2 = df_past2.fillna({'past_dif_time1': 0, 'past_dif_time2': 0})\n",
    "df_past2 = df_past2.dropna(how='any')\n",
    "columns = [\"pred_horse_sex\",\n",
    "          \"pred_race_rank1\",\n",
    "          \"pred_race_rank2\",\n",
    "          \"pred_kind\",\n",
    "          \"pred_distance\",\n",
    "          \"pred_condition\",\n",
    "          \"pred_place\",\n",
    "          \"past_horse_sex\",\n",
    "          \"past_race_rank1\",\n",
    "          \"past_race_rank2\",\n",
    "          \"past_distance\",\n",
    "          \"past_kind\",\n",
    "          \"past_condition\",\n",
    "          \"past_place\"]\n",
    "df_past2 = pd.get_dummies(df_past2, drop_first=True, columns=columns)\n",
    "#target\n",
    "df_past2[\"target\"] = df_past2.pred_tyaku.apply(lambda x : 1 if x < 4 else 0)"
   ]
  },
  {
   "cell_type": "code",
   "execution_count": 19,
   "metadata": {},
   "outputs": [],
   "source": [
    "learn_data = df_past2.sample(frac=1,random_state=1)\n",
    "scaler = StandardScaler()\n",
    "\n",
    "X          = learn_data.iloc[:,4:-1].values\n",
    "X          = scaler.fit_transform(X)\n",
    "y          = learn_data.target.values\n",
    "x_columns  = learn_data.iloc[:,4:-1].columns\n",
    "\n",
    "X_train,X_test,y_train,y_test = train_test_split(X,y,train_size=0.8,stratify=y,random_state=1)"
   ]
  },
  {
   "cell_type": "code",
   "execution_count": 20,
   "metadata": {},
   "outputs": [],
   "source": [
    "#model\n",
    "def create_model(optimizer='adam',init = 'glorot_normal',input_dim=None):\n",
    "    model= Sequential()\n",
    "    model.add(Dense(128,input_dim=input_dim,kernel_initializer=init,activation='relu'))\n",
    "    model.add(Dense(256,kernel_initializer=init,activation='relu'))\n",
    "    model.add(Dense(128,kernel_initializer=init,activation='relu'))\n",
    "    model.add(Dense(64,kernel_initializer=init,activation='relu'))\n",
    "    model.add(Dense(1, kernel_initializer=init,activation='sigmoid'))\n",
    "    model.compile(loss='binary_crossentropy',optimizer=optimizer,metrics=['accuracy'])\n",
    "    return model"
   ]
  },
  {
   "cell_type": "code",
   "execution_count": 21,
   "metadata": {},
   "outputs": [],
   "source": [
    "model = create_model(input_dim = X.shape[1])"
   ]
  },
  {
   "cell_type": "code",
   "execution_count": 22,
   "metadata": {},
   "outputs": [
    {
     "name": "stdout",
     "output_type": "stream",
     "text": [
      "Train on 93700 samples, validate on 23425 samples\n",
      "Epoch 1/20\n",
      "93700/93700 [==============================] - 6s 62us/step - loss: 0.4960 - accuracy: 0.7787 - val_loss: 0.4888 - val_accuracy: 0.7794\n",
      "Epoch 2/20\n",
      "93700/93700 [==============================] - 6s 62us/step - loss: 0.4852 - accuracy: 0.7812 - val_loss: 0.4865 - val_accuracy: 0.7796\n",
      "Epoch 3/20\n",
      "93700/93700 [==============================] - 6s 62us/step - loss: 0.4806 - accuracy: 0.7828 - val_loss: 0.4861 - val_accuracy: 0.7801\n",
      "Epoch 4/20\n",
      "93700/93700 [==============================] - 6s 62us/step - loss: 0.4773 - accuracy: 0.7846 - val_loss: 0.4869 - val_accuracy: 0.7804\n",
      "Epoch 5/20\n",
      "93700/93700 [==============================] - 6s 62us/step - loss: 0.4733 - accuracy: 0.7864 - val_loss: 0.4873 - val_accuracy: 0.7796\n",
      "Epoch 6/20\n",
      "93700/93700 [==============================] - 6s 61us/step - loss: 0.4685 - accuracy: 0.7887 - val_loss: 0.4931 - val_accuracy: 0.7782\n",
      "Epoch 7/20\n",
      "93700/93700 [==============================] - 6s 61us/step - loss: 0.4626 - accuracy: 0.7920 - val_loss: 0.4947 - val_accuracy: 0.7749\n",
      "Epoch 8/20\n",
      "93700/93700 [==============================] - 6s 62us/step - loss: 0.4559 - accuracy: 0.7955 - val_loss: 0.4998 - val_accuracy: 0.7755\n",
      "Epoch 9/20\n",
      "93700/93700 [==============================] - 6s 62us/step - loss: 0.4481 - accuracy: 0.7983 - val_loss: 0.5031 - val_accuracy: 0.7751\n",
      "Epoch 10/20\n",
      "93700/93700 [==============================] - 6s 61us/step - loss: 0.4387 - accuracy: 0.8036 - val_loss: 0.5139 - val_accuracy: 0.7685\n",
      "Epoch 11/20\n",
      "93700/93700 [==============================] - 6s 62us/step - loss: 0.4291 - accuracy: 0.8087 - val_loss: 0.5271 - val_accuracy: 0.7724\n",
      "Epoch 12/20\n",
      "93700/93700 [==============================] - 6s 62us/step - loss: 0.4181 - accuracy: 0.8133 - val_loss: 0.5308 - val_accuracy: 0.7662\n",
      "Epoch 13/20\n",
      "93700/93700 [==============================] - 6s 62us/step - loss: 0.4080 - accuracy: 0.8192 - val_loss: 0.5543 - val_accuracy: 0.7616\n",
      "Epoch 14/20\n",
      "93700/93700 [==============================] - 6s 62us/step - loss: 0.3946 - accuracy: 0.8252 - val_loss: 0.5978 - val_accuracy: 0.7632\n",
      "Epoch 15/20\n",
      "93700/93700 [==============================] - 6s 62us/step - loss: 0.3836 - accuracy: 0.8305 - val_loss: 0.6003 - val_accuracy: 0.7581\n",
      "Epoch 16/20\n",
      "93700/93700 [==============================] - 6s 62us/step - loss: 0.3712 - accuracy: 0.8375 - val_loss: 0.6065 - val_accuracy: 0.7514\n",
      "Epoch 17/20\n",
      "93700/93700 [==============================] - 6s 62us/step - loss: 0.3606 - accuracy: 0.8409 - val_loss: 0.6409 - val_accuracy: 0.7550\n",
      "Epoch 18/20\n",
      "93700/93700 [==============================] - 6s 62us/step - loss: 0.3471 - accuracy: 0.8490 - val_loss: 0.6813 - val_accuracy: 0.7546\n",
      "Epoch 19/20\n",
      "93700/93700 [==============================] - 6s 62us/step - loss: 0.3364 - accuracy: 0.8539 - val_loss: 0.6980 - val_accuracy: 0.7515\n",
      "Epoch 20/20\n",
      "93700/93700 [==============================] - 6s 62us/step - loss: 0.3247 - accuracy: 0.8603 - val_loss: 0.7216 - val_accuracy: 0.7424\n"
     ]
    }
   ],
   "source": [
    "fit = model.fit(x=X_train,y=y_train,\n",
    "         validation_data=(X_test,y_test),\n",
    "         epochs=20,\n",
    "         batch_size = 32,\n",
    "         shuffle=True)"
   ]
  },
  {
   "cell_type": "code",
   "execution_count": 23,
   "metadata": {},
   "outputs": [
    {
     "name": "stdout",
     "output_type": "stream",
     "text": [
      "auc 0.6068783095636874\n"
     ]
    },
    {
     "data": {
      "image/png": "[encoded data removed]",
      "text/plain": [
       "<Figure size 432x288 with 1 Axes>"
      ]
     },
     "metadata": {
      "needs_background": "light"
     },
     "output_type": "display_data"
    }
   ],
   "source": [
    "#auc\n",
    "result_pred = model.predict(X_test)\n",
    "auc = metrics.roc_auc_score(y_test, result_pred)\n",
    "print(\"auc\",auc)\n",
    "fpr, tpr, thresholds = metrics.roc_curve(y_test, result_pred)\n",
    "auc = metrics.auc(fpr, tpr)\n",
    "plt.plot(fpr, tpr, label='SVC (AUC = %.2f)'%auc)\n",
    "plt.legend()\n",
    "plt.xlim([0, 1])\n",
    "plt.ylim([0, 1])\n",
    "plt.title('ROC curve')\n",
    "plt.xlabel('False Positive Rate')\n",
    "plt.ylabel('True Positive Rate')\n",
    "plt.grid(True)\n",
    "plt.show()"
   ]
  },
  {
   "cell_type": "code",
   "execution_count": 24,
   "metadata": {},
   "outputs": [
    {
     "name": "stdout",
     "output_type": "stream",
     "text": [
      "train (epoch:20/loss:0.32468928057457874)\n",
      "test  (epoch:20/loss:0.7216435156904137)\n"
     ]
    },
    {
     "data": {
      "image/png": "[encoded data removed]",
      "text/plain": [
       "<Figure size 432x288 with 1 Axes>"
      ]
     },
     "metadata": {
      "needs_background": "light"
     },
     "output_type": "display_data"
    }
   ],
   "source": [
    "#loss\n",
    "def loss_plot(train_loss,test_loss):\n",
    "    print(\"train (epoch:{}/loss:{})\" .format( str(len(train_loss)) , str(train_loss[-1])))\n",
    "    print(\"test  (epoch:{}/loss:{})\" .format( str(len(test_loss)) , str(test_loss[-1])))\n",
    "    plt.figure()\n",
    "    plt.plot(np.arange(0,len(train_loss)),train_loss,label=\"loss for training\")\n",
    "    plt.plot(np.arange(0,len(test_loss)),test_loss,label=\"loss for validation\")\n",
    "\n",
    "    plt.legend()\n",
    "    plt.title('model loss')\n",
    "    plt.xlabel('epoch')\n",
    "    plt.ylabel('loss')\n",
    "    plt.legend(loc='upper right')\n",
    "    plt.show()\n",
    "#run\n",
    "loss_plot(fit.history['loss'],fit.history['val_loss'])"
   ]
  },
  {
   "cell_type": "code",
   "execution_count": null,
   "metadata": {},
   "outputs": [],
   "source": []
  },
  {
   "cell_type": "code",
   "execution_count": null,
   "metadata": {},
   "outputs": [],
   "source": []
  }
 ],
 "metadata": {
  "kernelspec": {
   "display_name": "Python 3",
   "language": "python",
   "name": "python3"
  },
  "language_info": {
   "codemirror_mode": {
    "name": "ipython",
    "version": 3
   },
   "file_extension": ".py",
   "mimetype": "text/x-python",
   "name": "python",
   "nbconvert_exporter": "python",
   "pygments_lexer": "ipython3",
   "version": "3.7.6"
  }
 },
 "nbformat": 4,
 "nbformat_minor": 4
}
