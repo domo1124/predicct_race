{
 "cells": [
  {
   "cell_type": "code",
   "execution_count": 94,
   "metadata": {},
   "outputs": [],
   "source": [
    "import shutil\n",
    "import pathlib\n",
    "import glob\n",
    "import re\n",
    "import zipfile\n",
    "import os\n",
    "from google.cloud import storage\n",
    "import yaml\n",
    "import json\n",
    "import subprocess"
   ]
  },
  {
   "cell_type": "code",
   "execution_count": 117,
   "metadata": {},
   "outputs": [],
   "source": [
    "with open('../config/gcp.yaml','r') as f:\n",
    "    gcp = yaml.load(f)\n",
    "\n",
    "os.environ[\"GOOGLE_APPLICATION_CREDENTIALS\"]=gcp['REDENTIALS_JSON']\n",
    "project_id = gcp['GCP_PROJECT']"
   ]
  },
  {
   "cell_type": "code",
   "execution_count": 118,
   "metadata": {},
   "outputs": [],
   "source": [
    "os.environ[\"GOOGLE_APPLICATION_CREDENTIALS\"]='C:\\\\Users\\\\hajime kobayashi\\\\My First Project-ea55bbd81537.json'\n",
    "p_temp = pathlib.Path('../functions')\n",
    "function_list=[p for p in p_temp.iterdir() if p.is_dir()]\n",
    "with open('../config/function_deploy.yaml','r') as f:\n",
    "    conf = yaml.load(f)"
   ]
  },
  {
   "cell_type": "code",
   "execution_count": 119,
   "metadata": {},
   "outputs": [
    {
     "data": {
      "text/plain": [
       "{'FUNCTION_BUCKET': 'sys_functions11'}"
      ]
     },
     "execution_count": 119,
     "metadata": {},
     "output_type": "execute_result"
    }
   ],
   "source": [
    "conf"
   ]
  },
  {
   "cell_type": "code",
   "execution_count": 133,
   "metadata": {},
   "outputs": [],
   "source": [
    "#FunctionsをDeploy\n",
    "with open(\"../config/functions_args.json\") as f:\n",
    "    function_args_set = json.load(f)\n",
    "deploy_func_set = []\n",
    "gcloud_cmmand = [\"gcloud\",\"functions\",\"deploy\"]\n",
    "for deploy_func in function_args_set:\n",
    "    deploy_func_set.append(list(deploy_func.keys())[0])"
   ]
  },
  {
   "cell_type": "code",
   "execution_count": 134,
   "metadata": {},
   "outputs": [
    {
     "data": {
      "text/plain": [
       "list"
      ]
     },
     "execution_count": 134,
     "metadata": {},
     "output_type": "execute_result"
    }
   ],
   "source": [
    "type(function_args_set)"
   ]
  },
  {
   "cell_type": "code",
   "execution_count": 135,
   "metadata": {},
   "outputs": [
    {
     "data": {
      "text/plain": [
       "['week_race_get',\n",
       " 'predict_race_get',\n",
       " 'predict_horse_get',\n",
       " 'past_race_get',\n",
       " 'predict_race_check',\n",
       " 'tweet',\n",
       " 'predict_result_aggregate',\n",
       " 'predict_result_output']"
      ]
     },
     "execution_count": 135,
     "metadata": {},
     "output_type": "execute_result"
    }
   ],
   "source": [
    "deploy_func_set"
   ]
  },
  {
   "cell_type": "code",
   "execution_count": 136,
   "metadata": {},
   "outputs": [
    {
     "name": "stdout",
     "output_type": "stream",
     "text": [
      "past_race_get.zip\n",
      "['gcloud', 'functions', 'deploy', 'past_race_get', '--runtime=python37', '--trigger-topic=past_race', '--timeout=540', '--memory=512MB', '--source=gs://sys_functions11/past_race_get.zip', '--entry-point=past_race_get', '--env-vars-file=..\\\\functions\\\\past_race_get\\\\env.yaml']\n",
      "predict_horse_get.zip\n",
      "['gcloud', 'functions', 'deploy', 'predict_horse_get', '--runtime=python37', '--trigger-topic=predict_horse', '--timeout=540', '--memory=512MB', '--source=gs://sys_functions11/predict_horse_get.zip', '--entry-point=predict_horse_get', '--env-vars-file=..\\\\functions\\\\predict_horse_get\\\\env.yaml']\n",
      "predict_race_check.zip\n",
      "['gcloud', 'functions', 'deploy', 'predict_race_check', '--runtime=python37', '--trigger-http', '--timeout=540', '--memory=512MB', '--source=gs://sys_functions11/predict_race_check.zip', '--entry-point=predict_race_check', '--env-vars-file=..\\\\functions\\\\predict_race_check\\\\env.yaml']\n",
      "predict_race_get.zip\n",
      "['gcloud', 'functions', 'deploy', 'predict_race_get', '--runtime=python37', '--trigger-topic=predict_race', '--timeout=540', '--memory=512MB', '--source=gs://sys_functions11/predict_race_get.zip', '--entry-point=predict_race_get', '--env-vars-file=..\\\\functions\\\\predict_race_get\\\\env.yaml']\n",
      "predict_result_aggregate.zip\n",
      "['gcloud', 'functions', 'deploy', 'predict_result_aggregate', '--runtime=python37', '--trigger-http', '--timeout=540', '--memory=512MB', '--source=gs://sys_functions11/predict_result_aggregate.zip', '--entry-point=predict_result_aggregate', '--env-vars-file=..\\\\functions\\\\predict_result_aggregate\\\\env.yaml']\n",
      "Not Deploy predict_result_output \n",
      "table_update.zip\n",
      "['gcloud', 'functions', 'deploy', 'table_update', '--runtime=python37', '--trigger-http', '--timeout=540', '--memory=512MB', '--source=gs://sys_functions11/table_update.zip', '--entry-point=predict_result_aggregate', '--env-vars-file=..\\\\functions\\\\table_update\\\\env.yaml']\n",
      "tweet.zip\n",
      "['gcloud', 'functions', 'deploy', 'tweet', '--runtime=python37', '--trigger-topic=tweet_msg', '--timeout=180', '--memory=256MB', '--source=gs://sys_functions11/tweet.zip', '--entry-point=twitter_output', '--env-vars-file=..\\\\functions\\\\tweet\\\\env.yaml']\n",
      "week_race_get.zip\n",
      "['gcloud', 'functions', 'deploy', 'week_race_get', '--runtime=nodejs8', '--trigger-http', '--timeout=540', '--memory=512MB', '--source=gs://sys_functions11/week_race_get.zip', '--entry-point=week_race_get', '--env-vars-file=..\\\\functions\\\\week_race_get\\\\env.yaml']\n"
     ]
    }
   ],
   "source": [
    "#バケット名を指定してbucketを取得\n",
    "client = storage.Client(project_id)\n",
    "bucket_name = conf['FUNCTION_BUCKET']\n",
    "\n",
    "bucket = client.get_bucket(bucket_name)\n",
    "\n",
    "for function in function_list:\n",
    "    if function.name in deploy_func:\n",
    "        print(\"Not Deploy {} \".format(function.name))\n",
    "\n",
    "    gcloud_cmmand = [\"gcloud\",\"functions\",\"deploy\"]   \n",
    "    zip_file_name = \"{}.zip\".format(function.name)\n",
    "    print(zip_file_name)\n",
    "    zip_file_list = [p for p in function.glob('**/*') if 'yaml' not in str(p)]\n",
    "    with zipfile.ZipFile(zip_file_name, 'w', compression=zipfile.ZIP_DEFLATED) as new_zip:\n",
    "        for i in zip_file_list:\n",
    "            new_zip.write(str(i),arcname=i.name)\n",
    "    #storageにアップロード\n",
    "    #blob = bucket.blob(zip_file_name)\n",
    "    #blob.upload_from_filename(zip_file_name)\n",
    "    #アップロード済ファイル削除\n",
    "    os.remove(zip_file_name)\n",
    "    gsutil_link = \"gs://{}/{}\".format(bucket_name,zip_file_name)\n",
    "    for arg_f in function_args_set:\n",
    "        #argsファイル内に存在していた場合、コマンドを設定\n",
    "        \n",
    "        if function.name in arg_f:\n",
    "            arg_data = arg_f[function.name]\n",
    "            runtime = arg_data['runtime']\n",
    "            trigger= arg_data['trigger']\n",
    "            if type(trigger) is dict:\n",
    "                trigger_type = list(trigger.keys())[0]\n",
    "                trigger_event = list(trigger.values())[0]\n",
    "                trigger_command = \"--trigger-{}={}\".format(trigger_type,trigger_event)\n",
    "            else:\n",
    "                trigger_type = trigger\n",
    "                trigger_command = \"--trigger-{}\".format(trigger_type)\n",
    "            memory= arg_data['memory']\n",
    "            timeout= arg_data['timeout']\n",
    "            entry_point= arg_data['entry_point']\n",
    "    env_file = list(function.glob('**/*.yaml'))\n",
    "    if len(env_file) != 0:\n",
    "        env_file = env_file[0]\n",
    "    #コマンドの設定\n",
    "    gcloud_cmmand.append(function.name)\n",
    "    gcloud_cmmand.append(\"--runtime={}\".format(runtime))\n",
    "    gcloud_cmmand.append(trigger_command)\n",
    "    gcloud_cmmand.append(\"--timeout={}\".format(timeout))\n",
    "    gcloud_cmmand.append(\"--memory={}\".format(memory))\n",
    "    gcloud_cmmand.append(\"--source={}\".format(gsutil_link))\n",
    "    gcloud_cmmand.append(\"--entry-point={}\".format(entry_point))\n",
    "    gcloud_cmmand.append(\"--env-vars-file={}\".format(env_file))\n",
    "    print(gcloud_cmmand)\n",
    "    #proc = subprocess.run(gcloud_cmmand,shell =True,stdout = subprocess.PIPE, stderr = subprocess.PIPE)\n",
    "\n",
    "    \n",
    "        \n",
    "    \n",
    "\n",
    "    "
   ]
  },
  {
   "cell_type": "code",
   "execution_count": 115,
   "metadata": {},
   "outputs": [],
   "source": [
    "gsutil_file = 'gs://{}/{}'.format(blob.bucket,blob.name)"
   ]
  },
  {
   "cell_type": "code",
   "execution_count": 58,
   "metadata": {},
   "outputs": [
    {
     "data": {
      "text/plain": [
       "1588051750197487"
      ]
     },
     "execution_count": 58,
     "metadata": {},
     "output_type": "execute_result"
    }
   ],
   "source": [
    "blob.generation"
   ]
  },
  {
   "cell_type": "code",
   "execution_count": 53,
   "metadata": {},
   "outputs": [
    {
     "data": {
      "text/plain": [
       "'gs://<Bucket: sys_functions11>/week_race_get.zip'"
      ]
     },
     "execution_count": 53,
     "metadata": {},
     "output_type": "execute_result"
    }
   ],
   "source": [
    "gsutil_file"
   ]
  },
  {
   "cell_type": "code",
   "execution_count": 102,
   "metadata": {},
   "outputs": [],
   "source": [
    "import subprocess"
   ]
  },
  {
   "cell_type": "code",
   "execution_count": 110,
   "metadata": {},
   "outputs": [
    {
     "name": "stdout",
     "output_type": "stream",
     "text": [
      "CompletedProcess(args=['gcloud', 'functions', 'deploy', 'week_race_get', '--runtime=nodejs8', '--trigger-http', '--timeout=540', '--memory=512MB', '--source=gs://sys_functions11/week_race_get.zip', '--entry-point=week_race_get', '--env-vars-file=..\\\\functions\\\\week_race_get\\\\env.yaml'], returncode=0, stdout=b\"availableMemoryMb: 512\\r\\nentryPoint: week_race_get\\r\\nenvironmentVariables:\\r\\n  TOPIC_NAME: predict_race\\r\\nhttpsTrigger:\\r\\n  url: https://us-central1-nth-computing-270722.cloudfunctions.net/week_race_get\\r\\ningressSettings: ALLOW_ALL\\r\\nlabels:\\r\\n  deployment-tool: cli-gcloud\\r\\nname: projects/nth-computing-270722/locations/us-central1/functions/week_race_get\\r\\nruntime: nodejs8\\r\\nserviceAccountEmail: nth-computing-270722@appspot.gserviceaccount.com\\r\\nsourceArchiveUrl: gs://sys_functions11/week_race_get.zip\\r\\nstatus: ACTIVE\\r\\ntimeout: 540s\\r\\nupdateTime: '2020-04-28T07:50:27.236Z'\\r\\nversionId: '1'\\r\\n\", stderr=b'Allow unauthenticated invocations of new function [week_race_get]? \\r\\n(y/N)?  \\r\\nWARNING: Function created with limited-access IAM policy. To enable unauthorized access consider \"gcloud alpha functions add-iam-policy-binding week_race_get --member=allUsers --role=roles/cloudfunctions.invoker\"\\r\\nDeploying function (may take a while - up to 2 minutes)...\\r\\n...................................done.\\r\\n')\n"
     ]
    }
   ],
   "source": [
    "top=['gcloud', 'functions', 'deploy', 'week_race_get', '--runtime=nodejs8', '--trigger-http', '--timeout=540', '--memory=512MB', '--source=gs://sys_functions11/week_race_get.zip', '--entry-point=week_race_get', '--env-vars-file=..\\\\functions\\\\week_race_get\\\\env.yaml']\n",
    "\n",
    "print(proc)"
   ]
  },
  {
   "cell_type": "code",
   "execution_count": 64,
   "metadata": {},
   "outputs": [],
   "source": [
    "from google.cloud import pubsub\n",
    "from google.cloud import bigquery"
   ]
  },
  {
   "cell_type": "code",
   "execution_count": 66,
   "metadata": {},
   "outputs": [
    {
     "ename": "TypeError",
     "evalue": "__new__() takes from 1 to 4 positional arguments but 21 were given",
     "output_type": "error",
     "traceback": [
      "\u001b[1;31m---------------------------------------------------------------------------\u001b[0m",
      "\u001b[1;31mTypeError\u001b[0m                                 Traceback (most recent call last)",
      "\u001b[1;32m<ipython-input-66-47870c6a711a>\u001b[0m in \u001b[0;36m<module>\u001b[1;34m()\u001b[0m\n\u001b[1;32m----> 1\u001b[1;33m \u001b[0mc\u001b[0m \u001b[1;33m=\u001b[0m \u001b[0mpubsub\u001b[0m\u001b[1;33m.\u001b[0m\u001b[0mPublisherClient\u001b[0m\u001b[1;33m(\u001b[0m\u001b[0mproject_name\u001b[0m\u001b[1;33m)\u001b[0m\u001b[1;33m\u001b[0m\u001b[0m\n\u001b[0m",
      "\u001b[1;32mC:\\ProgramData\\Anaconda3\\envs\\mypy\\lib\\site-packages\\google\\cloud\\pubsub_v1\\publisher\\client.py\u001b[0m in \u001b[0;36m__init__\u001b[1;34m(self, batch_settings, **kwargs)\u001b[0m\n\u001b[0;32m    129\u001b[0m         \u001b[1;31m# client.\u001b[0m\u001b[1;33m\u001b[0m\u001b[1;33m\u001b[0m\u001b[0m\n\u001b[0;32m    130\u001b[0m         \u001b[0mself\u001b[0m\u001b[1;33m.\u001b[0m\u001b[0mapi\u001b[0m \u001b[1;33m=\u001b[0m \u001b[0mpublisher_client\u001b[0m\u001b[1;33m.\u001b[0m\u001b[0mPublisherClient\u001b[0m\u001b[1;33m(\u001b[0m\u001b[1;33m**\u001b[0m\u001b[0mkwargs\u001b[0m\u001b[1;33m)\u001b[0m\u001b[1;33m\u001b[0m\u001b[0m\n\u001b[1;32m--> 131\u001b[1;33m         \u001b[0mself\u001b[0m\u001b[1;33m.\u001b[0m\u001b[0mbatch_settings\u001b[0m \u001b[1;33m=\u001b[0m \u001b[0mtypes\u001b[0m\u001b[1;33m.\u001b[0m\u001b[0mBatchSettings\u001b[0m\u001b[1;33m(\u001b[0m\u001b[1;33m*\u001b[0m\u001b[0mbatch_settings\u001b[0m\u001b[1;33m)\u001b[0m\u001b[1;33m\u001b[0m\u001b[0m\n\u001b[0m\u001b[0;32m    132\u001b[0m \u001b[1;33m\u001b[0m\u001b[0m\n\u001b[0;32m    133\u001b[0m         \u001b[1;31m# The batches on the publisher client are responsible for holding\u001b[0m\u001b[1;33m\u001b[0m\u001b[1;33m\u001b[0m\u001b[0m\n",
      "\u001b[1;31mTypeError\u001b[0m: __new__() takes from 1 to 4 positional arguments but 21 were given"
     ]
    }
   ],
   "source": [
    "c = pubsub.PublisherClient(project_name)"
   ]
  },
  {
   "cell_type": "code",
   "execution_count": 51,
   "metadata": {},
   "outputs": [],
   "source": [
    "topic_path = c.topic_path(project_name,\"unti\")\n",
    "res = c.create_topic(topic_path)"
   ]
  },
  {
   "cell_type": "code",
   "execution_count": 54,
   "metadata": {},
   "outputs": [],
   "source": [
    "bu = client.create_bucket('o1111ds11p',location=\"us-east1\")"
   ]
  },
  {
   "cell_type": "code",
   "execution_count": 65,
   "metadata": {},
   "outputs": [],
   "source": [
    "client = bigquery.Client(project_name)"
   ]
  },
  {
   "cell_type": "code",
   "execution_count": 83,
   "metadata": {},
   "outputs": [],
   "source": [
    "import json\n",
    "bigquery_table_list = conf['BIGQUERY_TABLE_LIST']\n",
    "for table_data in bigquery_table_list:\n",
    "    schema_file_path = table_data[\"schema_json_path\"]\n",
    "    with open(schema_file_path,'r') as f:\n",
    "        schema_data = json.load(f)\n",
    "    schema = [bigquery.SchemaField(sch[\"name\"], sch[\"type\"],mode=sch[\"mode\"]) for sch in schema_data]\n"
   ]
  },
  {
   "cell_type": "code",
   "execution_count": 82,
   "metadata": {},
   "outputs": [
    {
     "data": {
      "text/plain": [
       "[{'mode': 'NULLABLE', 'name': 'race_id', 'type': 'INTEGER'},\n",
       " {'mode': 'NULLABLE', 'name': 'race_num', 'type': 'INTEGER'},\n",
       " {'mode': 'NULLABLE', 'name': 'race_name', 'type': 'STRING'},\n",
       " {'mode': 'NULLABLE', 'name': 'race_date', 'type': 'DATE'},\n",
       " {'mode': 'NULLABLE', 'name': 'race_rank1', 'type': 'STRING'},\n",
       " {'mode': 'NULLABLE', 'name': 'race_rank2', 'type': 'STRING'},\n",
       " {'mode': 'NULLABLE', 'name': 'distance', 'type': 'INTEGER'},\n",
       " {'mode': 'NULLABLE', 'name': 'kind', 'type': 'STRING'},\n",
       " {'mode': 'NULLABLE', 'name': 'condition', 'type': 'STRING'},\n",
       " {'mode': 'NULLABLE', 'name': 'place', 'type': 'STRING'},\n",
       " {'mode': 'NULLABLE', 'name': 'horse_count', 'type': 'INTEGER'},\n",
       " {'mode': 'NULLABLE', 'name': 'lap_time', 'type': 'STRING'},\n",
       " {'mode': 'NULLABLE', 'name': 'conner1', 'type': 'STRING'},\n",
       " {'mode': 'NULLABLE', 'name': 'conner2', 'type': 'STRING'},\n",
       " {'mode': 'NULLABLE', 'name': 'conner3', 'type': 'STRING'},\n",
       " {'mode': 'NULLABLE', 'name': 'conner4', 'type': 'STRING'}]"
      ]
     },
     "execution_count": 82,
     "metadata": {},
     "output_type": "execute_result"
    }
   ],
   "source": [
    "schema_data"
   ]
  },
  {
   "cell_type": "code",
   "execution_count": 84,
   "metadata": {},
   "outputs": [
    {
     "data": {
      "text/plain": [
       "[SchemaField('result7', 'FLOAT', 'NULLABLE', None, ()),\n",
       " SchemaField('result6', 'FLOAT', 'NULLABLE', None, ()),\n",
       " SchemaField('result5', 'FLOAT', 'NULLABLE', None, ()),\n",
       " SchemaField('result1', 'FLOAT', 'NULLABLE', None, ()),\n",
       " SchemaField('result3', 'FLOAT', 'NULLABLE', None, ()),\n",
       " SchemaField('horse_id', 'INTEGER', 'NULLABLE', None, ()),\n",
       " SchemaField('race_id', 'INTEGER', 'NULLABLE', None, ()),\n",
       " SchemaField('pred_model_1', 'FLOAT', 'REPEATED', None, ()),\n",
       " SchemaField('pred_model_4', 'FLOAT', 'REPEATED', None, ()),\n",
       " SchemaField('result2', 'FLOAT', 'NULLABLE', None, ()),\n",
       " SchemaField('pred_model_3', 'FLOAT', 'REPEATED', None, ()),\n",
       " SchemaField('result4', 'FLOAT', 'NULLABLE', None, ()),\n",
       " SchemaField('pred_model_2', 'FLOAT', 'REPEATED', None, ())]"
      ]
     },
     "execution_count": 84,
     "metadata": {},
     "output_type": "execute_result"
    }
   ],
   "source": [
    "schema"
   ]
  },
  {
   "cell_type": "code",
   "execution_count": null,
   "metadata": {},
   "outputs": [],
   "source": []
  }
 ],
 "metadata": {
  "kernelspec": {
   "display_name": "Python 3",
   "language": "python",
   "name": "python3"
  },
  "language_info": {
   "codemirror_mode": {
    "name": "ipython",
    "version": 3
   },
   "file_extension": ".py",
   "mimetype": "text/x-python",
   "name": "python",
   "nbconvert_exporter": "python",
   "pygments_lexer": "ipython3",
   "version": "3.5.5"
  }
 },
 "nbformat": 4,
 "nbformat_minor": 4
}
